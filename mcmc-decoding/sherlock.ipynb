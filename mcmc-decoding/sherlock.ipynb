{
 "cells": [
  {
   "cell_type": "markdown",
   "metadata": {},
   "source": [
    "# Методы семплирования для расшифровки сообщений"
   ]
  },
  {
   "cell_type": "markdown",
   "metadata": {},
   "source": [
    "### Введение"
   ]
  },
  {
   "cell_type": "markdown",
   "metadata": {},
   "source": [
    "Этот ноутбук посвящен применению методов семплирования ??? для повторения и улучшения метода\n",
    "расшифровки сообщений, который применял знаменитый персонаж Артура Конана Дойля Шерлок Холмс в рассказе \"Пляшущие человечки\".  Как известно, в рассказе великий сыщик расшифровал загадочные письмена, которые выглядели примерно так:"
   ]
  },
  {
   "cell_type": "markdown",
   "metadata": {},
   "source": [
    "![Dancing_men_2](img/Dancing_men_2.gif)"
   ]
  },
  {
   "cell_type": "markdown",
   "metadata": {},
   "source": [
    "Пользовался он для этого так называемым частотным методом: смотрел, какие буквы чаще встречаются в зашифрованных текстах, и пытался подставить буквы в соответствии с частотной таблицей: E — самая частая и так далее. После частнотности сыщик применял уже более развернутый анализ, навроде \"какое слово из 5 букв начинается и заканчивается на одну и ту же букву\". В этом ноутбуке будет предложен более современный и продвинутый вариант такого частотного метода."
   ]
  },
  {
   "cell_type": "markdown",
   "metadata": {},
   "source": [
    "### 1. Базовый частотный метод по Шерлоку Холмсу"
   ]
  },
  {
   "cell_type": "markdown",
   "metadata": {},
   "source": [
    "Но для начала импорты"
   ]
  },
  {
   "cell_type": "code",
   "execution_count": 1,
   "metadata": {},
   "outputs": [],
   "source": [
    "import re\n",
    "import numpy as np\n",
    "import random\n",
    "from collections import Counter\n",
    "from tqdm.notebook import tqdm\n",
    "import matplotlib.pyplot as plt\n",
    "from itertools import islice\n",
    "from nltk import bigrams"
   ]
  },
  {
   "cell_type": "markdown",
   "metadata": {},
   "source": [
    "Вычитаем русские тексты в память и почистим"
   ]
  },
  {
   "cell_type": "code",
   "execution_count": 2,
   "metadata": {},
   "outputs": [],
   "source": [
    "with open('./corpora/AnnaKarenina.txt', 'r') as fin:\n",
    "    anna_karenina = fin.read()\n",
    "    \n",
    "with open('./corpora/WarAndPeace.txt', 'r') as fin:\n",
    "    war_and_peace = fin.read()"
   ]
  },
  {
   "cell_type": "markdown",
   "metadata": {},
   "source": [
    "Регулярка такова, чтобы дропать всякие французские символы из корпуса"
   ]
  },
  {
   "cell_type": "code",
   "execution_count": 3,
   "metadata": {},
   "outputs": [],
   "source": [
    "word_regex = re.compile('[А-я]+')"
   ]
  },
  {
   "cell_type": "code",
   "execution_count": 4,
   "metadata": {},
   "outputs": [],
   "source": [
    "anna_karenina_cleaned = ' '.join(word.lower() for word in word_regex.findall(anna_karenina))\n",
    "war_and_peace_cleaned = ' '.join(word.lower() for word in word_regex.findall(war_and_peace))"
   ]
  },
  {
   "cell_type": "code",
   "execution_count": 5,
   "metadata": {},
   "outputs": [
    {
     "data": {
      "text/plain": [
       "'война и мир самый известный роман льва николаевича толстого как никакое другое произведение писателя отражает глубину его мироощущения и философии эта книга из разряда вечных потому что она обо всем о жизни и смерти о любви и чести о мужестве и героизме о славе и подвиге о войне и мире первый том знакомит с высшим обществом россии века показаны взаимоотношения между родителями и детьми в семье ростовых сватовство у болконских интриги у безуховых вечера в салоне фрейлины а п шерер балы в москве и петербурге лев николаевич толстойчасть первая часть орая часть третья лев николаевич толстой война и мир том часть первая е поместья мой верный раб ну что князь генуа и лукка стали не больше как поместьями фамилии бонапарте нет я вас предупреждаю если вы мне не скажете что у нас война если вы еще позволите себе защищать все гадости все ужасы этого антихриста право я верю что он антихрист я вас больше не знаю вы уж не друг мой вы уж не мой верный раб как вы говорите ну здравствуйте здравствуйте '"
      ]
     },
     "execution_count": 5,
     "metadata": {},
     "output_type": "execute_result"
    }
   ],
   "source": [
    "war_and_peace_cleaned[:1000]"
   ]
  },
  {
   "cell_type": "markdown",
   "metadata": {},
   "source": [
    "Подготовим почву для шифровки текстов. Случайные перестановки - скучновато, никакой связи с пляшущими человечками. Самое близкое по духу,\n",
    "что есть для такой задачки в `Unicode` - эмодзи:)"
   ]
  },
  {
   "cell_type": "code",
   "execution_count": 6,
   "metadata": {},
   "outputs": [],
   "source": [
    "emoji_alphabet = '👨👮💂👰👸🤴🦸🦹🎅🧙🧝🧛🧟🧞🧜🧚👼🤰🤱🙇💁🙅🙋👭🤦🤷🧖💃🕺👯🕴🚶🧕'\n",
    "ru_alphabet = ''.join(sorted(list(set(anna_karenina_cleaned))))"
   ]
  },
  {
   "cell_type": "code",
   "execution_count": 7,
   "metadata": {},
   "outputs": [],
   "source": [
    "def generate_cipher(orig_alphabet, cipher_alphabet):\n",
    "    cipher_alphabet_shuffled = cipher_alphabet.copy()\n",
    "    random.shuffle(cipher_alphabet_shuffled)\n",
    "    conformity = {\n",
    "        orig_char: cipher_char\n",
    "        for orig_char, cipher_char in zip(orig_alphabet, cipher_alphabet_shuffled)}\n",
    "    sol = {cipher_char: orig_char for orig_char, cipher_char in conformity.items()}\n",
    "    return conformity, sol"
   ]
  },
  {
   "cell_type": "code",
   "execution_count": 8,
   "metadata": {},
   "outputs": [],
   "source": [
    "def encrypt_text(text, cipher):\n",
    "    return ''.join(cipher[ch] for ch in text)"
   ]
  },
  {
   "cell_type": "code",
   "execution_count": 9,
   "metadata": {},
   "outputs": [],
   "source": [
    "def decrypt_text(text, solution):\n",
    "    return ''.join(solution[ch] for ch in text)"
   ]
  },
  {
   "cell_type": "code",
   "execution_count": 10,
   "metadata": {},
   "outputs": [],
   "source": [
    "def accuracy_score(decrypted_text, orig_text):\n",
    "    return (np.array(list(decrypted_text)) == np.array(list(orig_text))).sum() / len(decrypted_text)"
   ]
  },
  {
   "cell_type": "markdown",
   "metadata": {},
   "source": [
    "Зафиксируем шифр"
   ]
  },
  {
   "cell_type": "code",
   "execution_count": 11,
   "metadata": {},
   "outputs": [],
   "source": [
    "emoji_cipher, solution = generate_cipher(list(ru_alphabet), list(emoji_alphabet))"
   ]
  },
  {
   "cell_type": "markdown",
   "metadata": {},
   "source": [
    "Например (несколько sanity check-ов)"
   ]
  },
  {
   "cell_type": "code",
   "execution_count": 12,
   "metadata": {},
   "outputs": [
    {
     "name": "stdout",
     "output_type": "stream",
     "text": [
      "Исходный текст: 'а как же серсо',\n",
      "Зашифрованный '👸🧙🧖👸🧖🧙🧝🧜🧙🙅🧜👯🙅🙇'\n"
     ]
    }
   ],
   "source": [
    "text = 'а как же серсо'\n",
    "encrypted_text = encode_text(text, emoji_cipher)\n",
    "decrypted_text = decode_text(encoded_text, solution)\n",
    "print(f'Исходный текст: {repr(text)},\\nЗашифрованный {repr(encoded_text)}')"
   ]
  },
  {
   "cell_type": "code",
   "execution_count": 13,
   "metadata": {},
   "outputs": [
    {
     "name": "stdout",
     "output_type": "stream",
     "text": [
      "Исходный зашифрованный текст: '👸🧙🧖👸🧖🧙🧝🧜🧙🙅🧜👯🙅🙇',\n",
      "Расшифрованный 'а как же серсо'\n"
     ]
    }
   ],
   "source": [
    "print(f'Исходный зашифрованный текст: {repr(encoded_text)},\\nРасшифрованный {repr((decoded_text))}')"
   ]
  },
  {
   "cell_type": "code",
   "execution_count": 14,
   "metadata": {},
   "outputs": [
    {
     "name": "stdout",
     "output_type": "stream",
     "text": [
      "1.0\n"
     ]
    }
   ],
   "source": [
    "print(accuracy_score(text, decoded_text))"
   ]
  },
  {
   "cell_type": "markdown",
   "metadata": {},
   "source": [
    "Теперь закодируем тексты"
   ]
  },
  {
   "cell_type": "code",
   "execution_count": 15,
   "metadata": {},
   "outputs": [
    {
     "name": "stdout",
     "output_type": "stream",
     "text": [
      "👸🕴🕴👸🧙🧖👸👯🧜🕴🧕🕴👸🧙🙇🙋🧕🕴🧙🧕🧟🧙🙅👸🦹💃👮🧙🧟🕴👸🦹🧜🕴🧕🚶💃👮🧙👯🙇🦹👸🕴🙇💂🧙🧚👭💂👸🧙🚶🙇🧚🙅🚶🙇🤴🙇🧙🕴👸🧛🧕🕴👸🧜🚶🙅💁🧙🙅🚶👸💂👨🧜🦸🧙👸👰🙇👯🧕🧟🦹🙇🦹🧙👰👯👸🧟🙇🦸🧙💂🙅🧜🧙🙅🧛👸🙅🚶🧚🧕💂💃🧜🧙🙅🧜🦹👭🧕🧙🤦🙇👮🙇🧝🧕🧙🙋👯🤷🤴🧙🕴👸🧙🙋👯🤷🤴👸🧙🧖👸🧝🙋👸💁🧙🕴🧜🙅🧛👸🙅🚶🧚🧕💂👸💁🧙🙅🧜🦹👭💁🧙🕴🧜🙅🧛👸🙅🚶🧚🧕💂👸🧙🤦🙇🧙🙅💂🙇🧜🦹🤷🧙🤰🚶🙇🧙🧖🕴🧕🤴👸🧙🙇🧙💂🧜🧛🕴💃👮🧙🧞🧜🕴🕴🙇🙅🚶💁👮🧙🙇🧙🧚🎅👼💂🧕🧙🙇🧙💂🧜👯🧜🧙🙇🧙🙅🧜🦹👭🧜🧙🙇🧙🧛🧜🧚🙇💂🧜🧛🧜🙅🧖🙇🦹🧙🙋🙇🙅🚶🙇🧕🕴🙅🚶💂🧜🧙🧚🧜💂🧙🚶🙇🧚🙅🚶🙇🦸👯🙇🦹👸🕴🧙👨🧕👯🙇🧖🙇🤴🙇🧙🙋💃👮👸🕴🧕💁🧙🧛👸🙅🚶👭🧙🤦🧜👯💂👸💁🧙🧚🧜💂🧙🚶🙇🧚🙅🚶🙇🦸🧙👸🕴🕴👸🧙🧖👸👯🧜🕴🧕🕴👸🧙👯🙇🦹👸🕴🧙👨🧕👯🙇🧖🙇🤴🙇🧙🙋💃👮👸🕴🧕💁🧙👸🕴🕴👸🧙🧖👸👯🧜🕴🧕🕴👸🧙🤦🙇👯👸🧟🧕🧚👸🧙🙅🙇💂👯🧜🦹🧜🕴🕴🧕🧖🙇💂🧙💂🙅🧜🙋🕴🧜💂🕴🙇🙅🚶👭🎅🧙🙅🙇🙋🧜👯🧝👸🕴🧕💁🧙🕴🧜🙇👼💃🧛👸🦸🕴👸💁🧙🙅💂🙇👼🙇🙋👸🧙👯👸🙅🧖🙇💂👸🕴🕴🙇🙅🚶👭🧙🤦🙇💂🧜🙅🚶💂🙇💂👸🕴🧕💁🧙🤷🙋🧕💂🧕🚶🧜🧚👭🕴🙇🧙🙅🙇🧛🧜🚶👸🧚🧕🙅👭🧙💂🧙🤰🚶🙇\n"
     ]
    }
   ],
   "source": [
    "encoded_karenina = encode_text(anna_karenina_cleaned, emoji_cipher)\n",
    "encoded_war_and_peace = encode_text(war_and_peace_cleaned, emoji_cipher)\n",
    "print(encoded_karenina[:500])"
   ]
  },
  {
   "cell_type": "markdown",
   "metadata": {},
   "source": [
    "#### Базовый частотный метод"
   ]
  },
  {
   "cell_type": "markdown",
   "metadata": {},
   "source": [
    "На этапе обучения - просто запоминаем частоты букв в тренировочном корпусе.\n",
    "На этапе расшифровки - считаем частоты на тестовом тексте и составляем соответствие - _самая частая буква в тестовой строке == самая частая буква в обучающем корпусе_ и так далее"
   ]
  },
  {
   "cell_type": "code",
   "execution_count": 16,
   "metadata": {},
   "outputs": [],
   "source": [
    "class FreqCipherDecoder():\n",
    "    def __init__(self):\n",
    "        pass\n",
    "        \n",
    "    def fit(self, corpora: str):\n",
    "        char_cnt = dict(Counter(corpora).most_common())\n",
    "        len_corpora = len(corpora)\n",
    "        self.char_freq = {\n",
    "            ch: (cnt / len_corpora) for ch, cnt in char_cnt.items()\n",
    "        }\n",
    "        \n",
    "    def decode(self, encoded_text):\n",
    "        encoded_cnt = dict(Counter(encoded_text).most_common())\n",
    "        len_text = len(encoded_text)\n",
    "        encoded_freq = {\n",
    "            ch: (cnt / len_text) for ch, cnt in encoded_cnt.items()\n",
    "        }\n",
    "        self.solution = {\n",
    "            enc_ch: dec_ch for enc_ch, dec_ch in zip(encoded_freq.keys(), self.char_freq.keys())\n",
    "        }\n",
    "        \n",
    "        decoded_text = decode_text(encoded_text, self.solution)\n",
    "        return decoded_text"
   ]
  },
  {
   "cell_type": "markdown",
   "metadata": {},
   "source": [
    "Выучим частоты из Анны Карениной и дешифруем саму же Анну Каренину - очевидно получим 100% точность, поскольку все частоты будут на своих местах"
   ]
  },
  {
   "cell_type": "code",
   "execution_count": 17,
   "metadata": {},
   "outputs": [
    {
     "name": "stdout",
     "output_type": "stream",
     "text": [
      "Точность расшифровки если учиться на Анне Карениной и ее же расшифровывать:\n",
      "Accuracy = 1.0\n"
     ]
    }
   ],
   "source": [
    "decoder = FreqCipherDecoder()\n",
    "decoder.fit(anna_karenina_cleaned)\n",
    "decoded_karenina = decoder.decode(encoded_karenina)\n",
    "print(f'Точность расшифровки если учиться на Анне Карениной и ее же расшифровывать:\\n\\\n",
    "Accuracy = {accuracy_score(anna_karenina_cleaned, decoded_karenina)}')"
   ]
  },
  {
   "cell_type": "markdown",
   "metadata": {},
   "source": [
    "А вот расшифровывать случайные конечные куски будет уже далеко не так эффективно, поскольку не успевают набежать частоты букв, которые пронаблюдали для всего текста"
   ]
  },
  {
   "cell_type": "code",
   "execution_count": 18,
   "metadata": {},
   "outputs": [
    {
     "name": "stdout",
     "output_type": "stream",
     "text": [
      "Точность расшифровки если учиться на Анне Карениной, а расшифровывать ее небольшой кусок (размером 5000 символов):\n",
      "Accuracy = 0.2654\n",
      "\n",
      "--Наглядное качество расшифровки небольшого куска текста--\n",
      "\n",
      "иееи диваенеи омне ны тикуж ыеикаенсуж вокиеол рчли сортсозо еийнеиастг тсилюая ифовныкок фвиыоя лта тйитсрнлуа такчн ьожошн мвпз еи мвпзи дишмиг еатйитсрнлиг такчг еатйитсрнли ьо тлоакп хсо дензи о лайеуж щаееотсгж о рэблн о лава о такча о йаролайатдок мотсонетсла рал сортсоявокие юнводозо мужиенг йитсч ьавлиг рал сортсоя иееи диваенеи вокие юнводозо мужиенг иееи диваенеи ьовиынри толвакаеендол лтамеалеотсчэ томавшиенг еаобуйияеиг тлобоми витдолиееотсч ьолатслолиенг пмнлнсарчео тойасирнтч л хсо\n",
      "--------------------------------------------------\n"
     ]
    }
   ],
   "source": [
    "decoded_karenina_part = decoder.decode(encoded_karenina[:5000])\n",
    "print(f'Точность расшифровки если учиться на Анне Карениной, а расшифровывать ее небольшой кусок (размером 5000 символов):\\n\\\n",
    "Accuracy = {accuracy_score(anna_karenina_cleaned[:5000], decoded_karenina_part)}')\n",
    "print('\\n--Наглядное качество расшифровки небольшого куска текста--\\n')\n",
    "print(decoded_karenina_part[:500])\n",
    "print('-'*50)"
   ]
  },
  {
   "cell_type": "markdown",
   "metadata": {},
   "source": [
    "Как видно - ничего не понятно. Стоит отметить, что это в принципе повторяет сюжет рассказа - с появлением каждого нового текста из человечков главный герой все лучше и лучше разгадывал шифр. Построим график зависимости точности расшифровки от длины тестовой строки"
   ]
  },
  {
   "cell_type": "code",
   "execution_count": 19,
   "metadata": {},
   "outputs": [
    {
     "data": {
      "application/vnd.jupyter.widget-view+json": {
       "model_id": "2da9d1fee0c84685888a7ead9b001774",
       "version_major": 2,
       "version_minor": 0
      },
      "text/plain": [
       "  0%|          | 0/170 [00:00<?, ?it/s]"
      ]
     },
     "metadata": {},
     "output_type": "display_data"
    },
    {
     "data": {
      "text/plain": [
       "[<matplotlib.lines.Line2D at 0x7f61b5cae4c0>]"
      ]
     },
     "execution_count": 19,
     "metadata": {},
     "output_type": "execute_result"
    },
    {
     "data": {
      "image/png": "[encoded data removed]",
      "text/plain": [
       "<Figure size 720x432 with 1 Axes>"
      ]
     },
     "metadata": {
      "needs_background": "light"
     },
     "output_type": "display_data"
    }
   ],
   "source": [
    "# Графические штуки\n",
    "lens, accuracies = [], []\n",
    "for test_len in tqdm(range(1000, len(anna_karenina_cleaned), 10000)):\n",
    "    lens.append(test_len)\n",
    "    accuracies.append(accuracy_score(decoder.decode(anna_karenina_cleaned[:test_len]), anna_karenina_cleaned[:test_len]))\n",
    "fig = plt.figure(figsize=(10, 6))\n",
    "ax = fig.add_subplot(111)\n",
    "ax.plot(lens, accuracies, label=\"Точность расшифровки\", linewidth=1.7)"
   ]
  },
  {
   "cell_type": "markdown",
   "metadata": {},
   "source": [
    "Как и ожидалось, начиная с какого-то достаточно гигансткого куска текста (примерно в половину произведения :)) точность увеличивается до 100% - \n",
    "успевают набраться частоты буквы, позволяющие им расположиться в отсортированном виде в том же порядке, как и во всем произведении"
   ]
  },
  {
   "cell_type": "markdown",
   "metadata": {},
   "source": [
    "Естественно, учить частоты на одном тексте, а дешифровать другой текст, такие зависимости пронаблюдать не позволяет. Посмотрим на примере романа \"Война и Мир\""
   ]
  },
  {
   "cell_type": "code",
   "execution_count": 20,
   "metadata": {},
   "outputs": [
    {
     "name": "stdout",
     "output_type": "stream",
     "text": [
      "Точность расшифровки если учиться на Анне Карениной, а расшифровывать всю Войну и Мир:\n",
      "Accuracy = 0.6363893631379427\n",
      "\n",
      "--Наглядное качество расшифровки--\n",
      "\n",
      "вожие н мнр семгж нбвастигж ромеи лыве инколеавнзе толстоьо кек инкекоа друьоа пронбвадаина пнсеталя отрейеат ьлучниу аьо мнрооцуцаиня н фнлософнн щте кинье нб ребряде вазигх потому зто оие очо всам о йнбин н смартн о лючвн н застн о муйаства н ьаронбма о слева н подвньа о вожиа н мнра парвгж том биекомнт с вгсшнм очцаством росснн ваке покебеиг вбенмоотиошаиня майду роднталямн н датымн в самыа ростовгх световство у чолкоискнх нитрньн у чабуховгх вазаре в селоиа фражлниг е п шарар челг в москва н патарчурьа лав инколеавнз толстожзесты парвея зесты орея зесты тратыя лав инколеавнз толстож вожие н мнр том зесты парвея а помастыя мож варигж реч иу зто киябы ьаиуе н лукке стелн иа чолыша кек пома\n",
      "--------------------------------------------------\n"
     ]
    }
   ],
   "source": [
    "decoded_war_and_peace = decoder.decode(encoded_war_and_peace)\n",
    "print(f'Точность расшифровки если учиться на Анне Карениной, а расшифровывать всю Войну и Мир:\\n\\\n",
    "Accuracy = {accuracy_score(war_and_peace_cleaned, decoded_war_and_peace)}')\n",
    "print('\\n--Наглядное качество расшифровки--\\n')\n",
    "print(decoded_war_and_peace[:700])\n",
    "print('-'*50)"
   ]
  },
  {
   "cell_type": "markdown",
   "metadata": {},
   "source": [
    "Видно, что закономерности встречаемости русских букв вообще в любых русских текстах частично позволяют с какой-то не совсем печальной\n",
    "точностью декодить тексты, но выглядит так себе"
   ]
  },
  {
   "cell_type": "code",
   "execution_count": 21,
   "metadata": {},
   "outputs": [
    {
     "data": {
      "application/vnd.jupyter.widget-view+json": {
       "model_id": "9a3f0eff890e4fbcaa80fb1e3ac8195f",
       "version_major": 2,
       "version_minor": 0
      },
      "text/plain": [
       "  0%|          | 0/65 [00:00<?, ?it/s]"
      ]
     },
     "metadata": {},
     "output_type": "display_data"
    },
    {
     "data": {
      "text/plain": [
       "[<matplotlib.lines.Line2D at 0x7f61b6e1a310>]"
      ]
     },
     "execution_count": 21,
     "metadata": {},
     "output_type": "execute_result"
    },
    {
     "data": {
      "image/png": "[encoded data removed]",
      "text/plain": [
       "<Figure size 720x432 with 1 Axes>"
      ]
     },
     "metadata": {
      "needs_background": "light"
     },
     "output_type": "display_data"
    }
   ],
   "source": [
    "# Графические штуки #2\n",
    "lens, accuracies = [], []\n",
    "for test_len in tqdm(range(1000, len(war_and_peace_cleaned), 10000)):\n",
    "    lens.append(test_len)\n",
    "    accuracies.append(accuracy_score(decoder.decode(war_and_peace_cleaned[:test_len]), war_and_peace_cleaned[:test_len]))\n",
    "fig = plt.figure(figsize=(10, 6))\n",
    "ax = fig.add_subplot(111)\n",
    "ax.plot(lens, accuracies, label=\"Точность расшифровки\", linewidth=1.7)"
   ]
  },
  {
   "cell_type": "markdown",
   "metadata": {},
   "source": [
    "### 2. Базовый частотный метод по Шерлоку Холмсу, но на биграммах"
   ]
  },
  {
   "cell_type": "markdown",
   "metadata": {},
   "source": [
    "На этапе обучения считаем и запоминаем частоты биграмм в исходном тексте. На этапе дешифровки - считаем частоты биграмм в зашифрованном тексте, и составляем предположение для дешифровки - _самая частая биграмма в зашифрованном тексте == самая частая биграмма в обучающем тексте_ и так далее"
   ]
  },
  {
   "cell_type": "code",
   "execution_count": 22,
   "metadata": {},
   "outputs": [],
   "source": [
    "def decode_text_bg(encoded_text, bigram_solution):\n",
    "    all_bigrams_list = list(zip(encoded_text[:-1], encoded_text[1:]))\n",
    "    return ''.join(bigram_solution[bigram][0] for bigram in all_bigrams_list)"
   ]
  },
  {
   "cell_type": "code",
   "execution_count": 23,
   "metadata": {},
   "outputs": [],
   "source": [
    "class BigramFreqCipherDecoder():\n",
    "    def __init__(self):\n",
    "        pass\n",
    "        \n",
    "    def fit(self, corpora: str):\n",
    "        all_bigrams_list = list(zip(anna_karenina_cleaned[:-1], anna_karenina_cleaned[1:]))\n",
    "        all_bigrams_len = len(all_bigrams_list)\n",
    "        bigrams_cnt = dict(Counter(all_bigrams_list).most_common())\n",
    "        self.bigrams_freq = {\n",
    "            bigram: (bigram_cnt / all_bigrams_len) for bigram, bigram_cnt in bigrams_cnt.items()\n",
    "        }\n",
    "        \n",
    "    def decode(self, encoded_text):\n",
    "        all_bigrams_list = list(zip(encoded_text[:-1], encoded_text[1:]))\n",
    "        all_bigrams_len = len(all_bigrams_list)\n",
    "        encoded_bigrams_cnt = dict(Counter(all_bigrams_list).most_common())\n",
    "        self.solution = {\n",
    "            enc_bg: dec_bg for enc_bg, dec_bg in zip(encoded_bigrams_cnt.keys(), self.bigrams_freq.keys())\n",
    "        }\n",
    "        \n",
    "        decoded_text = decode_text_bg(encoded_text, self.solution)\n",
    "        return decoded_text"
   ]
  },
  {
   "cell_type": "markdown",
   "metadata": {},
   "source": [
    "Опять же, если учить такой дешифровщик на всей Анне Карениной, а затем дешифровать ту же самую Каренину - получим 100% точность,\n",
    "поскольку частоты биграм все на своих местах"
   ]
  },
  {
   "cell_type": "code",
   "execution_count": 24,
   "metadata": {},
   "outputs": [
    {
     "name": "stdout",
     "output_type": "stream",
     "text": [
      "Точность расшифровки если учиться на Анне Карениной и ее же расшифровывать:\n",
      "Accuracy = 1.0\n"
     ]
    }
   ],
   "source": [
    "bigram_decoder = BigramFreqCipherDecoder()\n",
    "bigram_decoder.fit(anna_karenina_cleaned)\n",
    "decoded_bg_karenina = bigram_decoder.decode(encoded_karenina)\n",
    "print(f'Точность расшифровки если учиться на Анне Карениной и ее же расшифровывать:\\n\\\n",
    "Accuracy = {accuracy_score(anna_karenina_cleaned[:-1], decoded_bg_karenina)}')"
   ]
  },
  {
   "cell_type": "markdown",
   "metadata": {},
   "source": [
    "А вот расшифровывать куски на биграммах явно сложнее, потому что для того, чтобы набежали хотя бы похожие частоты биграмм,\n",
    "нужно тестировать на больших кусках"
   ]
  },
  {
   "cell_type": "code",
   "execution_count": 25,
   "metadata": {},
   "outputs": [
    {
     "name": "stdout",
     "output_type": "stream",
     "text": [
      "Точность расшифровки если учиться на Анне Карениной, а расшифровывать ее небольшой кусок (размером 5000 символов):\n",
      "Accuracy = 0.10782156431286258\n",
      "\n",
      "--Наглядное качество расшифровки небольшого куска текста--\n",
      "\n",
      "клн  рвн я н грс а еонскуе юлнка яоте йнасктокачсо ватаоа  иснжк ны пл ноквкяе  ыу оерэалея втп ее  нгс оархаы н едс ьмивса тлсгусн тлсгщ  руомо стегс оархоо н едш стегс оархо ьминуп енлыиаи иячщ гиенсиое иа лтоово гиаядях гиендн гин еди гимзвлонсзелвалтбооаа  оен ааекватаоапвнаскаяуднув  итжеокят мс отоьрдыоо ааекватаоап  клн  рвн я н йнаскаяуднув  итжеокят  клн  рвн я н ьм  вбти нообнеа ля вокее иатеотоотгинорадагкят стбуитсумно нупушрм й  лвооклтоотоьмонеоепоокят епсххоивчдтиноез корииоекыиаа\n",
      "--------------------------------------------------\n"
     ]
    }
   ],
   "source": [
    "decoded_karenina_part = bigram_decoder.decode(encoded_karenina[:5000])\n",
    "print(f'Точность расшифровки если учиться на Анне Карениной, а расшифровывать ее небольшой кусок (размером 5000 символов):\\n\\\n",
    "Accuracy = {accuracy_score(anna_karenina_cleaned[:5000 - 1], decoded_karenina_part)}')\n",
    "print('\\n--Наглядное качество расшифровки небольшого куска текста--\\n')\n",
    "print(decoded_karenina_part[:500])\n",
    "print('-'*50)"
   ]
  },
  {
   "cell_type": "markdown",
   "metadata": {},
   "source": [
    "Построим также, как и в случае расшифровки на униграммах график зависимости точности дешифровки от размера тестируемого куска"
   ]
  },
  {
   "cell_type": "code",
   "execution_count": 26,
   "metadata": {},
   "outputs": [
    {
     "data": {
      "application/vnd.jupyter.widget-view+json": {
       "model_id": "f26f218fae2b403488e1aabab887ca84",
       "version_major": 2,
       "version_minor": 0
      },
      "text/plain": [
       "  0%|          | 0/170 [00:00<?, ?it/s]"
      ]
     },
     "metadata": {},
     "output_type": "display_data"
    },
    {
     "data": {
      "text/plain": [
       "[<matplotlib.lines.Line2D at 0x7f61b6ae2dc0>]"
      ]
     },
     "execution_count": 26,
     "metadata": {},
     "output_type": "execute_result"
    },
    {
     "data": {
      "image/png": "[encoded data removed]",
      "text/plain": [
       "<Figure size 720x432 with 1 Axes>"
      ]
     },
     "metadata": {
      "needs_background": "light"
     },
     "output_type": "display_data"
    }
   ],
   "source": [
    "# Графические штуки #3\n",
    "lens, accuracies = [], []\n",
    "for test_len in tqdm(range(1000, len(anna_karenina_cleaned), 10000)):\n",
    "    lens.append(test_len)\n",
    "    accuracies.append(accuracy_score(bigram_decoder.decode(anna_karenina_cleaned[:test_len]), anna_karenina_cleaned[:test_len -1]))\n",
    "fig = plt.figure(figsize=(10, 6))\n",
    "ax = fig.add_subplot(111)\n",
    "ax.plot(lens, accuracies, label=\"Точность расшифровки\", linewidth=1.7)"
   ]
  },
  {
   "cell_type": "code",
   "execution_count": 136,
   "metadata": {},
   "outputs": [],
   "source": [
    "class NotHiddenMM:\n",
    "    def __init__(self):\n",
    "        pass\n",
    "    \n",
    "    def fit(self, sequence):\n",
    "        self.transmat_ = np.zeros([len(set(sequence))] * 2)\n",
    "        self.startprob = np.zeros(len(set(sequence)))\n",
    "        self.startprob[sequence[0]] = 1\n",
    "        transcount = len(sequence) - 1\n",
    "        for i in range(1, len(sequence)):\n",
    "            self.transmat_[sequence[i - 1], sequence[i]] += 1\n",
    "        self.transmat_ /= transcount\n",
    "        \n",
    "    def get_log_likelihood(self, sequence):\n",
    "        log_likelihood = 0\n",
    "        for i in range(1, len(sequence)):\n",
    "            log_likelihood += np.log(self.transmat_[sequence[i - 1], sequence[i]])\n",
    "        return log_likelihood / len(sequence)\n",
    "        "
   ]
  },
  {
   "cell_type": "markdown",
   "metadata": {},
   "source": [
    "log(Пp(i, j)) = \\sum (log(p))"
   ]
  },
  {
   "cell_type": "code",
   "execution_count": 137,
   "metadata": {},
   "outputs": [],
   "source": [
    "ru_alphabet_coding = {ch: ind for ind, ch in enumerate(sorted(ru_alphabet))}\n",
    "def get_indexed_sequence(sequence, alphabet_coding=ru_alphabet_coding):\n",
    "    return [alphabet_coding[ch] for ch in sequence]"
   ]
  },
  {
   "cell_type": "code",
   "execution_count": 138,
   "metadata": {},
   "outputs": [],
   "source": [
    "n_hmm = NotHiddenMM()"
   ]
  },
  {
   "cell_type": "code",
   "execution_count": 139,
   "metadata": {},
   "outputs": [],
   "source": [
    "n_hmm.fit(get_indexed_sequence(anna_karenina_cleaned))"
   ]
  },
  {
   "cell_type": "code",
   "execution_count": 141,
   "metadata": {},
   "outputs": [
    {
     "data": {
      "text/plain": [
       "0.01699247898625474"
      ]
     },
     "execution_count": 141,
     "metadata": {},
     "output_type": "execute_result"
    }
   ],
   "source": [
    "def metropolis_hastings_check(markov_model, permutation):\n",
    "    "
   ]
  },
  {
   "cell_type": "code",
   "execution_count": 40,
   "metadata": {},
   "outputs": [
    {
     "data": {
      "text/plain": [
       "MultinomialHMM(n_components=3,\n",
       "               random_state=RandomState(MT19937) at 0x7F61D37C3140)"
      ]
     },
     "execution_count": 40,
     "metadata": {},
     "output_type": "execute_result"
    }
   ],
   "source": [
    "hmm_model.fit(list(combinations_with_replacement([1, 2, 3], 3)))"
   ]
  },
  {
   "cell_type": "code",
   "execution_count": 92,
   "metadata": {},
   "outputs": [
    {
     "data": {
      "text/plain": [
       "\u001b[0;31mInit signature:\u001b[0m\n",
       "\u001b[0mhmmlearn\u001b[0m\u001b[0;34m.\u001b[0m\u001b[0mhmm\u001b[0m\u001b[0;34m.\u001b[0m\u001b[0mMultinomialHMM\u001b[0m\u001b[0;34m(\u001b[0m\u001b[0;34m\u001b[0m\n",
       "\u001b[0;34m\u001b[0m    \u001b[0mn_components\u001b[0m\u001b[0;34m=\u001b[0m\u001b[0;36m1\u001b[0m\u001b[0;34m,\u001b[0m\u001b[0;34m\u001b[0m\n",
       "\u001b[0;34m\u001b[0m    \u001b[0mstartprob_prior\u001b[0m\u001b[0;34m=\u001b[0m\u001b[0;36m1.0\u001b[0m\u001b[0;34m,\u001b[0m\u001b[0;34m\u001b[0m\n",
       "\u001b[0;34m\u001b[0m    \u001b[0mtransmat_prior\u001b[0m\u001b[0;34m=\u001b[0m\u001b[0;36m1.0\u001b[0m\u001b[0;34m,\u001b[0m\u001b[0;34m\u001b[0m\n",
       "\u001b[0;34m\u001b[0m    \u001b[0malgorithm\u001b[0m\u001b[0;34m=\u001b[0m\u001b[0;34m'viterbi'\u001b[0m\u001b[0;34m,\u001b[0m\u001b[0;34m\u001b[0m\n",
       "\u001b[0;34m\u001b[0m    \u001b[0mrandom_state\u001b[0m\u001b[0;34m=\u001b[0m\u001b[0;32mNone\u001b[0m\u001b[0;34m,\u001b[0m\u001b[0;34m\u001b[0m\n",
       "\u001b[0;34m\u001b[0m    \u001b[0mn_iter\u001b[0m\u001b[0;34m=\u001b[0m\u001b[0;36m10\u001b[0m\u001b[0;34m,\u001b[0m\u001b[0;34m\u001b[0m\n",
       "\u001b[0;34m\u001b[0m    \u001b[0mtol\u001b[0m\u001b[0;34m=\u001b[0m\u001b[0;36m0.01\u001b[0m\u001b[0;34m,\u001b[0m\u001b[0;34m\u001b[0m\n",
       "\u001b[0;34m\u001b[0m    \u001b[0mverbose\u001b[0m\u001b[0;34m=\u001b[0m\u001b[0;32mFalse\u001b[0m\u001b[0;34m,\u001b[0m\u001b[0;34m\u001b[0m\n",
       "\u001b[0;34m\u001b[0m    \u001b[0mparams\u001b[0m\u001b[0;34m=\u001b[0m\u001b[0;34m'ste'\u001b[0m\u001b[0;34m,\u001b[0m\u001b[0;34m\u001b[0m\n",
       "\u001b[0;34m\u001b[0m    \u001b[0minit_params\u001b[0m\u001b[0;34m=\u001b[0m\u001b[0;34m'ste'\u001b[0m\u001b[0;34m,\u001b[0m\u001b[0;34m\u001b[0m\n",
       "\u001b[0;34m\u001b[0m\u001b[0;34m)\u001b[0m\u001b[0;34m\u001b[0m\u001b[0;34m\u001b[0m\u001b[0m\n",
       "\u001b[0;31mDocstring:\u001b[0m     \n",
       "Hidden Markov Model with multinomial (discrete) emissions.\n",
       "\n",
       "Parameters\n",
       "----------\n",
       "\n",
       "n_components : int\n",
       "    Number of states.\n",
       "\n",
       "startprob_prior : array, shape (n_components, ), optional\n",
       "    Parameters of the Dirichlet prior distribution for\n",
       "    :attr:`startprob_`.\n",
       "\n",
       "transmat_prior : array, shape (n_components, n_components), optional\n",
       "    Parameters of the Dirichlet prior distribution for each row\n",
       "    of the transition probabilities :attr:`transmat_`.\n",
       "\n",
       "algorithm : string, optional\n",
       "    Decoder algorithm. Must be one of \"viterbi\" or \"map\".\n",
       "    Defaults to \"viterbi\".\n",
       "\n",
       "random_state: RandomState or an int seed, optional\n",
       "    A random number generator instance.\n",
       "\n",
       "n_iter : int, optional\n",
       "    Maximum number of iterations to perform.\n",
       "\n",
       "tol : float, optional\n",
       "    Convergence threshold. EM will stop if the gain in log-likelihood\n",
       "    is below this value.\n",
       "\n",
       "verbose : bool, optional\n",
       "    When ``True`` per-iteration convergence reports are printed\n",
       "    to :data:`sys.stderr`. You can diagnose convergence via the\n",
       "    :attr:`monitor_` attribute.\n",
       "\n",
       "params : string, optional\n",
       "    Controls which parameters are updated in the training\n",
       "    process.  Can contain any combination of 's' for startprob,\n",
       "    't' for transmat, 'e' for emissionprob.\n",
       "    Defaults to all parameters.\n",
       "\n",
       "init_params : string, optional\n",
       "    Controls which parameters are initialized prior to\n",
       "    training.  Can contain any combination of 's' for\n",
       "    startprob, 't' for transmat, 'e' for emissionprob.\n",
       "    Defaults to all parameters.\n",
       "\n",
       "Attributes\n",
       "----------\n",
       "n_features : int\n",
       "    Number of possible symbols emitted by the model (in the samples).\n",
       "\n",
       "monitor\\_ : ConvergenceMonitor\n",
       "    Monitor object used to check the convergence of EM.\n",
       "\n",
       "startprob\\_ : array, shape (n_components, )\n",
       "    Initial state occupation distribution.\n",
       "\n",
       "transmat\\_ : array, shape (n_components, n_components)\n",
       "    Matrix of transition probabilities between states.\n",
       "\n",
       "emissionprob\\_ : array, shape (n_components, n_features)\n",
       "    Probability of emitting a given symbol when in each state.\n",
       "\n",
       "Examples\n",
       "--------\n",
       ">>> from hmmlearn.hmm import MultinomialHMM\n",
       ">>> MultinomialHMM(n_components=2)  #doctest: +ELLIPSIS\n",
       "MultinomialHMM(algorithm='viterbi',...\n",
       "\u001b[0;31mFile:\u001b[0m           ~/anaconda3/lib/python3.8/site-packages/hmmlearn/hmm.py\n",
       "\u001b[0;31mType:\u001b[0m           type\n",
       "\u001b[0;31mSubclasses:\u001b[0m     \n"
      ]
     },
     "metadata": {},
     "output_type": "display_data"
    }
   ],
   "source": [
    "hmmlearn.hmm.MultinomialHMM?"
   ]
  },
  {
   "cell_type": "code",
   "execution_count": 35,
   "metadata": {},
   "outputs": [],
   "source": [
    "from itertools import combinations_with_replacement"
   ]
  },
  {
   "cell_type": "code",
   "execution_count": 47,
   "metadata": {},
   "outputs": [
    {
     "data": {
      "text/plain": [
       "array([[0.55708988, 0.39169677, 0.05121336],\n",
       "       [0.37140368, 0.43290551, 0.19569081],\n",
       "       [0.01139247, 0.04763581, 0.94097172]])"
      ]
     },
     "execution_count": 47,
     "metadata": {},
     "output_type": "execute_result"
    }
   ],
   "source": [
    "hmm_model.transmat_"
   ]
  },
  {
   "cell_type": "code",
   "execution_count": null,
   "metadata": {},
   "outputs": [],
   "source": []
  }
 ],
 "metadata": {
  "kernelspec": {
   "display_name": "Python 3",
   "language": "python",
   "name": "python3"
  },
  "language_info": {
   "codemirror_mode": {
    "name": "ipython",
    "version": 3
   },
   "file_extension": ".py",
   "mimetype": "text/x-python",
   "name": "python",
   "nbconvert_exporter": "python",
   "pygments_lexer": "ipython3",
   "version": "3.8.8"
  }
 },
 "nbformat": 4,
 "nbformat_minor": 4
}
