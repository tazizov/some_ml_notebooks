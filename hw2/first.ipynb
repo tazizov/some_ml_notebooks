{
 "cells": [
  {
   "cell_type": "code",
   "execution_count": 1,
   "metadata": {},
   "outputs": [],
   "source": [
    "import pickle\n",
    "import pandas as pd\n",
    "import numpy as np\n",
    "import sys\n",
    "from I"
   ]
  },
  {
   "cell_type": "markdown",
   "metadata": {},
   "source": [
    "Филигранно распикливаем (с утечкой памяти:))"
   ]
  },
  {
   "cell_type": "code",
   "execution_count": 2,
   "metadata": {},
   "outputs": [],
   "source": [
    "players_dict = pickle.load(open('data/chgk/players.pkl', 'rb'))\n",
    "results_dict = pickle.load(open('data/chgk/results.pkl', 'rb'))\n",
    "tournaments_dict = pickle.load(open('data/chgk/tournaments.pkl', 'rb'))"
   ]
  },
  {
   "cell_type": "markdown",
   "metadata": {},
   "source": [
    "`players` и `tournaments` сразу в датафрейм, `results` пока что в словарь датафреймов "
   ]
  },
  {
   "cell_type": "code",
   "execution_count": 34,
   "metadata": {},
   "outputs": [],
   "source": [
    "players = pd.DataFrame.from_dict(players_dict, orient='index').set_index('id')\n",
    "tournaments = pd.DataFrame.from_dict(tournaments_dict, orient='index').set_index('id')\n",
    "results_dfs = {id_: pd.DataFrame.from_records(result) for id_, result in results_dict.items()}"
   ]
  },
  {
   "cell_type": "markdown",
   "metadata": {},
   "source": [
    "Фильтруем `results`, оставляем только те, где есть `mask`"
   ]
  },
  {
   "cell_type": "code",
   "execution_count": 64,
   "metadata": {},
   "outputs": [],
   "source": [
    "filtered_results_dfs = {id_: df_ for id_, df_ in results_dfs.items() if 'mask' in df_.columns and not df_['mask'].isnull().any()}"
   ]
  },
  {
   "cell_type": "markdown",
   "metadata": {},
   "source": [
    "Конкатим в большую мультииндекс таблицу"
   ]
  },
  {
   "cell_type": "code",
   "execution_count": 66,
   "metadata": {},
   "outputs": [],
   "source": [
    "concated = pd.concat(filtered_results_dfs.values(), keys=results_dfs.keys())\n"
   ]
  },
  {
   "cell_type": "code",
   "execution_count": null,
   "metadata": {},
   "outputs": [],
   "source": []
  }
 ],
 "metadata": {
  "kernelspec": {
   "display_name": "Python 3",
   "language": "python",
   "name": "python3"
  },
  "language_info": {
   "codemirror_mode": {
    "name": "ipython",
    "version": 3
   },
   "file_extension": ".py",
   "mimetype": "text/x-python",
   "name": "python",
   "nbconvert_exporter": "python",
   "pygments_lexer": "ipython3",
   "version": "3.7.4"
  }
 },
 "nbformat": 4,
 "nbformat_minor": 4
}
