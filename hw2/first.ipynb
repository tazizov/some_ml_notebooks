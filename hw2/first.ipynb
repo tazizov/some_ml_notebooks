{
 "cells": [
  {
   "cell_type": "code",
   "execution_count": 91,
   "metadata": {},
   "outputs": [],
   "source": [
    "import pickle\n",
    "import pandas as pd\n",
    "import numpy as np\n",
    "import sys\n",
    "from IPython.display import display, clear_output\n",
    "from datetime import datetime\n",
    "from tqdm import tqdm_notebook\n",
    "import itertools\n",
    "from sklearn.preprocessing import OneHotEncoder\n",
    "from sklearn.linear_model import LogisticRegression\n",
    "import os"
   ]
  },
  {
   "cell_type": "markdown",
   "metadata": {},
   "source": [
    "Филигранно распикливаем ([с возможной утечкой памяти:)](https://stackoverflow.com/questions/7395542/is-explicitly-closing-files-important))"
   ]
  },
  {
   "cell_type": "code",
   "execution_count": 2,
   "metadata": {},
   "outputs": [],
   "source": [
    "players_dict = pickle.load(open('data/chgk/players.pkl', 'rb'))\n",
    "results_dict = pickle.load(open('data/chgk/results.pkl', 'rb'))\n",
    "tournaments_dict = pickle.load(open('data/chgk/tournaments.pkl', 'rb'))"
   ]
  },
  {
   "cell_type": "code",
   "execution_count": 3,
   "metadata": {},
   "outputs": [],
   "source": [
    "tournaments_dict_train = {k: v for k, v in tournaments_dict.items() if v['dateStart'].startswith('2019')}\n",
    "tournaments_dict_test = {k: v for k, v in tournaments_dict.items() if v['dateStart'].startswith('2020')}"
   ]
  },
  {
   "cell_type": "markdown",
   "metadata": {},
   "source": [
    "`players` и `tournaments` сразу в датафрейм, `results` пока что в словарь датафреймов "
   ]
  },
  {
   "cell_type": "code",
   "execution_count": 4,
   "metadata": {},
   "outputs": [],
   "source": [
    "results_dict_train = {k: v for k, v in results_dict.items() if k in tournaments_dict_train.keys()}\n",
    "results_dict_test = {k: v for k, v in results_dict.items() if k in tournaments_dict_test.keys()}"
   ]
  },
  {
   "cell_type": "markdown",
   "metadata": {},
   "source": [
    "Фильтруем `results`, оставляем только те, где есть `mask`"
   ]
  },
  {
   "cell_type": "code",
   "execution_count": 5,
   "metadata": {},
   "outputs": [],
   "source": [
    "results_filtered_train = {}\n",
    "results_filtered_test = {}\n",
    "for k, res in results_dict.items():\n",
    "    t_res_new = []\n",
    "    for t_res in results_dict[k]:\n",
    "        if 'mask' in t_res.keys():\n",
    "            if t_res['mask'] is not None:\n",
    "                if 'X' not in t_res['mask'] and '?' not in t_res['mask']:\n",
    "                    t_res_new.append(t_res)\n",
    "    if t_res_new:\n",
    "        if tournaments_dict[k]['dateStart'].startswith('2019'):\n",
    "            results_filtered_train[k] = t_res_new\n",
    "        if tournaments_dict[k]['dateStart'].startswith('2020'):\n",
    "            results_filtered_test[k] = t_res_new"
   ]
  },
  {
   "cell_type": "code",
   "execution_count": 8,
   "metadata": {},
   "outputs": [],
   "source": [
    "tournament_question_count = {}\n",
    "\n",
    "for k, v in results_filtered_train.items():\n",
    "    tournament_question_count[k]= max([len(t_res['mask']) for t_res in v])\n",
    "    \n",
    "for k, v in results_filtered_test.items():\n",
    "    tournament_question_count[k]= max([len(t_res['mask']) for t_res in v])"
   ]
  },
  {
   "cell_type": "code",
   "execution_count": 62,
   "metadata": {},
   "outputs": [],
   "source": [
    "results_filtered_train_len = {}\n",
    "results_filtered_test_len = {}\n",
    "for k, v in results_filtered_train.items():\n",
    "    t_res_ = []\n",
    "    for t_res in v:\n",
    "        if len(t_res['mask']) == tournament_question_count[k]:\n",
    "            t_res_.append(t_res)\n",
    "    results_filtered_train_len[k] = t_res_\n",
    "\n",
    "for k, v in results_filtered_test.items():\n",
    "    t_res_ = []\n",
    "    for t_res in v:\n",
    "        if len(t_res['mask']) == tournament_question_count[k]:\n",
    "            t_res_.append(t_res)\n",
    "    results_filtered_test_len[k] = t_res_"
   ]
  },
  {
   "cell_type": "code",
   "execution_count": 64,
   "metadata": {},
   "outputs": [],
   "source": [
    "pq_df = pd.DataFrame(columns=['pid', 'qid', 'res'])"
   ]
  },
  {
   "cell_type": "code",
   "execution_count": 70,
   "metadata": {},
   "outputs": [],
   "source": [
    "pid = []\n",
    "qid = []\n",
    "res = []\n",
    "for k, v in results_filtered_train_len.items():\n",
    "    for t_res in v:\n",
    "        members = [m['player']['id'] for m in t_res['teamMembers']]\n",
    "        pid.extend(list(itertools.chain.from_iterable(itertools.repeat(m, tournament_question_count[k]) for m in members)))\n",
    "        qid.extend([f'{k}_{i}' for i in range(tournament_question_count[k])] * len(members))\n",
    "        res.extend(list(map(int, t_res['mask'])) * len(members))"
   ]
  },
  {
   "cell_type": "code",
   "execution_count": 71,
   "metadata": {},
   "outputs": [],
   "source": [
    "pq_df['pid'] = pid\n",
    "pq_df['qid'] = qid\n",
    "pq_df['res'] = res"
   ]
  },
  {
   "cell_type": "code",
   "execution_count": 73,
   "metadata": {},
   "outputs": [
    {
     "data": {
      "text/plain": [
       "numpy.int8"
      ]
     },
     "execution_count": 73,
     "metadata": {},
     "output_type": "execute_result"
    }
   ],
   "source": [
    "np.int8"
   ]
  },
  {
   "cell_type": "code",
   "execution_count": 74,
   "metadata": {},
   "outputs": [],
   "source": [
    "encoder = OneHotEncoder(categorical_features=[0, 1], sparse=True, dtype=np.int8)"
   ]
  },
  {
   "cell_type": "code",
   "execution_count": 75,
   "metadata": {},
   "outputs": [
    {
     "name": "stderr",
     "output_type": "stream",
     "text": [
      "/Users/a18570724/.local/lib/python3.7/site-packages/sklearn/preprocessing/_encoders.py:415: FutureWarning: The handling of integer data will change in version 0.22. Currently, the categories are determined based on the range [0, max(values)], while in the future they will be determined based on the unique values.\n",
      "If you want the future behaviour and silence this warning, you can specify \"categories='auto'\".\n",
      "In case you used a LabelEncoder before this OneHotEncoder to convert the categories to integers, then you can now use the OneHotEncoder directly.\n",
      "  warnings.warn(msg, FutureWarning)\n"
     ]
    },
    {
     "data": {
      "text/plain": [
       "OneHotEncoder(categorical_features=[0, 1], categories=None, drop=None,\n",
       "              dtype=<class 'numpy.int8'>, handle_unknown='error', n_values=None,\n",
       "              sparse=True)"
      ]
     },
     "execution_count": 75,
     "metadata": {},
     "output_type": "execute_result"
    }
   ],
   "source": [
    "encoder.fit(pq_df)"
   ]
  },
  {
   "cell_type": "code",
   "execution_count": 88,
   "metadata": {},
   "outputs": [],
   "source": [
    "pq_df_oh = encoder.transform(pq_df[['pid', 'qid']])"
   ]
  },
  {
   "cell_type": "code",
   "execution_count": 93,
   "metadata": {},
   "outputs": [],
   "source": [
    "clf = LogisticRegression(n_jobs = 10)"
   ]
  },
  {
   "cell_type": "code",
   "execution_count": 94,
   "metadata": {},
   "outputs": [
    {
     "name": "stderr",
     "output_type": "stream",
     "text": [
      "/Users/a18570724/.local/lib/python3.7/site-packages/sklearn/linear_model/logistic.py:432: FutureWarning: Default solver will be changed to 'lbfgs' in 0.22. Specify a solver to silence this warning.\n",
      "  FutureWarning)\n",
      "/Users/a18570724/.local/lib/python3.7/site-packages/sklearn/linear_model/logistic.py:1544: UserWarning: 'n_jobs' > 1 does not have any effect when 'solver' is set to 'liblinear'. Got 'n_jobs' = 10.\n",
      "  \" = {}.\".format(effective_n_jobs(self.n_jobs)))\n"
     ]
    },
    {
     "data": {
      "text/plain": [
       "LogisticRegression(C=1.0, class_weight=None, dual=False, fit_intercept=True,\n",
       "                   intercept_scaling=1, l1_ratio=None, max_iter=100,\n",
       "                   multi_class='warn', n_jobs=10, penalty='l2',\n",
       "                   random_state=None, solver='warn', tol=0.0001, verbose=0,\n",
       "                   warm_start=False)"
      ]
     },
     "execution_count": 94,
     "metadata": {},
     "output_type": "execute_result"
    }
   ],
   "source": [
    "clf.fit(pq_df_oh, pq_df['res'])"
   ]
  },
  {
   "cell_type": "code",
   "execution_count": 98,
   "metadata": {},
   "outputs": [
    {
     "data": {
      "text/plain": [
       "86144"
      ]
     },
     "execution_count": 98,
     "metadata": {},
     "output_type": "execute_result"
    }
   ],
   "source": []
  },
  {
   "cell_type": "code",
   "execution_count": null,
   "metadata": {},
   "outputs": [],
   "source": []
  }
 ],
 "metadata": {
  "kernelspec": {
   "display_name": "Python 3",
   "language": "python",
   "name": "python3"
  },
  "language_info": {
   "codemirror_mode": {
    "name": "ipython",
    "version": 3
   },
   "file_extension": ".py",
   "mimetype": "text/x-python",
   "name": "python",
   "nbconvert_exporter": "python",
   "pygments_lexer": "ipython3",
   "version": "3.7.4"
  }
 },
 "nbformat": 4,
 "nbformat_minor": 4
}
