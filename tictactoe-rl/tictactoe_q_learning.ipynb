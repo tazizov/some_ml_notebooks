{
 "cells": [
  {
   "cell_type": "code",
   "execution_count": 1,
   "metadata": {},
   "outputs": [],
   "source": [
    "from tictactoe_env import TicTacToe\n",
    "import numpy as np\n",
    "\n",
    "%load_ext autoreload\n",
    "%autoreload 2"
   ]
  },
  {
   "cell_type": "code",
   "execution_count": 13,
   "metadata": {},
   "outputs": [],
   "source": [
    "class RandomPlayer:\n",
    "    def strategy(self, state):\n",
    "        possible_steps = state[1]\n",
    "        return possible_steps[np.random.randint(possible_steps.shape[0])]"
   ]
  },
  {
   "cell_type": "code",
   "execution_count": 99,
   "metadata": {},
   "outputs": [],
   "source": [
    "class TicTacToeGame:\n",
    "    def __init__(self, env):\n",
    "        self.env = env\n",
    "\n",
    "    def run_episode(self, player_x, player_o):\n",
    "        state, _, is_done, _ = self.env.reset()\n",
    "        rewards_x, rewards_o = [], []\n",
    "        players = [player_x, player_o]\n",
    "        cur_player = 0\n",
    "        while not is_done:\n",
    "            step = players[cur_player].strategy(state)\n",
    "            state, reward, is_done, _ = self.env.step(step)\n",
    "            if cur_player == 0:\n",
    "                rewards_x.append(reward)\n",
    "            else:\n",
    "                rewards_o.append(-reward)\n",
    "            # rewards_x.append(reward)\n",
    "            # rewards_o.append(-reward)\n",
    "            cur_player = (cur_player + 1) % 2\n",
    "        if (len(rewards_x) > len(rewards_o)):\n",
    "            if (rewards_x[-1] == 1):\n",
    "                rewards_o.append(-1)\n",
    "            else:\n",
    "                rewards_o.append(0)\n",
    "        \n",
    "        return rewards_x, rewards_o"
   ]
  },
  {
   "cell_type": "code",
   "execution_count": 100,
   "metadata": {},
   "outputs": [],
   "source": [
    "env = TicTacToe()"
   ]
  },
  {
   "cell_type": "code",
   "execution_count": 101,
   "metadata": {},
   "outputs": [],
   "source": [
    "game = TicTacToeGame(env)"
   ]
  },
  {
   "cell_type": "code",
   "execution_count": 102,
   "metadata": {},
   "outputs": [
    {
     "data": {
      "text/plain": [
       "([0, 0, 0, 0, 0, 0, 1], [0, 0, 0, 0, 0, 0, -1])"
      ]
     },
     "execution_count": 102,
     "metadata": {},
     "output_type": "execute_result"
    }
   ],
   "source": [
    "game = TicTacToeGame(env)\n",
    "\n",
    "\n",
    "player_x = RandomPlayer()\n",
    "player_o = RandomPlayer()\n",
    "\n",
    "game.run_episode(player_x, player_o)"
   ]
  },
  {
   "cell_type": "code",
   "execution_count": 66,
   "metadata": {},
   "outputs": [
    {
     "data": {
      "text/plain": [
       "(('111111111',\n",
       "  array([[0, 0],\n",
       "         [0, 1],\n",
       "         [0, 2],\n",
       "         [1, 0],\n",
       "         [1, 1],\n",
       "         [1, 2],\n",
       "         [2, 0],\n",
       "         [2, 1],\n",
       "         [2, 2]], dtype=int64),\n",
       "  1),\n",
       " 0,\n",
       " False,\n",
       " {})"
      ]
     },
     "execution_count": 66,
     "metadata": {},
     "output_type": "execute_result"
    }
   ],
   "source": [
    "env.reset()"
   ]
  },
  {
   "cell_type": "code",
   "execution_count": 16,
   "metadata": {},
   "outputs": [
    {
     "name": "stdout",
     "output_type": "stream",
     "text": [
      "-------------\n",
      "|   |   |   | \n",
      "-------------\n",
      "|   |   |   | \n",
      "-------------\n",
      "|   |   |   | \n",
      "-------------\n"
     ]
    }
   ],
   "source": [
    "env.printBoard()"
   ]
  },
  {
   "cell_type": "code",
   "execution_count": 17,
   "metadata": {},
   "outputs": [
    {
     "data": {
      "text/plain": [
       "(('211111111',\n",
       "  array([[0, 1],\n",
       "         [0, 2],\n",
       "         [1, 0],\n",
       "         [1, 1],\n",
       "         [1, 2],\n",
       "         [2, 0],\n",
       "         [2, 1],\n",
       "         [2, 2]], dtype=int64),\n",
       "  -1),\n",
       " 0,\n",
       " False,\n",
       " {})"
      ]
     },
     "execution_count": 17,
     "metadata": {},
     "output_type": "execute_result"
    }
   ],
   "source": [
    "env.step(np.array([0, 0]))"
   ]
  },
  {
   "cell_type": "code",
   "execution_count": null,
   "metadata": {},
   "outputs": [],
   "source": []
  },
  {
   "cell_type": "code",
   "execution_count": 18,
   "metadata": {},
   "outputs": [
    {
     "name": "stdout",
     "output_type": "stream",
     "text": [
      "-------------\n",
      "| x |   |   | \n",
      "-------------\n",
      "|   |   |   | \n",
      "-------------\n",
      "|   |   |   | \n",
      "-------------\n"
     ]
    }
   ],
   "source": [
    "env.printBoard()"
   ]
  },
  {
   "cell_type": "code",
   "execution_count": 19,
   "metadata": {},
   "outputs": [
    {
     "data": {
      "text/plain": [
       "(('211111111',\n",
       "  array([[0, 1],\n",
       "         [0, 2],\n",
       "         [1, 0],\n",
       "         [1, 1],\n",
       "         [1, 2],\n",
       "         [2, 0],\n",
       "         [2, 1],\n",
       "         [2, 2]], dtype=int64),\n",
       "  -1),\n",
       " -10,\n",
       " True,\n",
       " {})"
      ]
     },
     "execution_count": 19,
     "metadata": {},
     "output_type": "execute_result"
    }
   ],
   "source": [
    "env.step(np.array([0, 0]))"
   ]
  },
  {
   "cell_type": "code",
   "execution_count": 98,
   "metadata": {},
   "outputs": [
    {
     "data": {
      "text/plain": [
       "array([[0, 0],\n",
       "       [0, 1],\n",
       "       [0, 2],\n",
       "       [1, 0],\n",
       "       [1, 1],\n",
       "       [1, 2],\n",
       "       [2, 0],\n",
       "       [2, 1],\n",
       "       [2, 2]], dtype=int64)"
      ]
     },
     "execution_count": 98,
     "metadata": {},
     "output_type": "execute_result"
    }
   ],
   "source": [
    "env.reset()[0][1][np.random.randint()]"
   ]
  },
  {
   "cell_type": "code",
   "execution_count": 21,
   "metadata": {},
   "outputs": [
    {
     "name": "stdout",
     "output_type": "stream",
     "text": [
      "-------------\n",
      "|   |   |   | \n",
      "-------------\n",
      "|   |   |   | \n",
      "-------------\n",
      "|   |   |   | \n",
      "-------------\n"
     ]
    }
   ],
   "source": [
    "env.printBoard()"
   ]
  },
  {
   "cell_type": "code",
   "execution_count": 19,
   "metadata": {},
   "outputs": [
    {
     "data": {
      "text/plain": [
       "(('211111111',\n",
       "  array([[0, 1],\n",
       "         [0, 2],\n",
       "         [1, 0],\n",
       "         [1, 1],\n",
       "         [1, 2],\n",
       "         [2, 0],\n",
       "         [2, 1],\n",
       "         [2, 2]], dtype=int64),\n",
       "  -1),\n",
       " -10,\n",
       " True,\n",
       " {})"
      ]
     },
     "execution_count": 19,
     "metadata": {},
     "output_type": "execute_result"
    }
   ],
   "source": [
    "env.step([0, 0])"
   ]
  },
  {
   "cell_type": "code",
   "execution_count": null,
   "metadata": {},
   "outputs": [],
   "source": [
    "env"
   ]
  },
  {
   "cell_type": "code",
   "execution_count": 6,
   "metadata": {},
   "outputs": [
    {
     "data": {
      "text/plain": [
       "(('201111111',\n",
       "  array([[0, 2],\n",
       "         [1, 0],\n",
       "         [1, 1],\n",
       "         [1, 2],\n",
       "         [2, 0],\n",
       "         [2, 1],\n",
       "         [2, 2]], dtype=int64),\n",
       "  1),\n",
       " 0,\n",
       " False,\n",
       " {})"
      ]
     },
     "execution_count": 6,
     "metadata": {},
     "output_type": "execute_result"
    }
   ],
   "source": [
    "env.step([0, 1])"
   ]
  },
  {
   "cell_type": "code",
   "execution_count": 7,
   "metadata": {},
   "outputs": [
    {
     "name": "stdout",
     "output_type": "stream",
     "text": [
      "-------------\n",
      "| x | o |   | \n",
      "-------------\n",
      "|   |   |   | \n",
      "-------------\n",
      "|   |   |   | \n",
      "-------------\n"
     ]
    }
   ],
   "source": [
    "env.printBoard()"
   ]
  },
  {
   "cell_type": "code",
   "execution_count": null,
   "metadata": {},
   "outputs": [],
   "source": []
  }
 ],
 "metadata": {
  "interpreter": {
   "hash": "a96679fb6303d6bfe882256a806ccdfeeac76400b462e2d8dedd73c503063ab7"
  },
  "kernelspec": {
   "display_name": "Python 3.10.0 64-bit ('base_ml_env': venv)",
   "language": "python",
   "name": "python3"
  },
  "language_info": {
   "codemirror_mode": {
    "name": "ipython",
    "version": 3
   },
   "file_extension": ".py",
   "mimetype": "text/x-python",
   "name": "python",
   "nbconvert_exporter": "python",
   "pygments_lexer": "ipython3",
   "version": "3.10.0"
  },
  "orig_nbformat": 4
 },
 "nbformat": 4,
 "nbformat_minor": 2
}
