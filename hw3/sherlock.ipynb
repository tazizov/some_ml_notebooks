{
 "cells": [
  {
   "cell_type": "markdown",
   "metadata": {},
   "source": [
    "# Методы семплирования для расшифровки сообщений"
   ]
  },
  {
   "cell_type": "markdown",
   "metadata": {},
   "source": [
    "### Введение"
   ]
  },
  {
   "cell_type": "markdown",
   "metadata": {},
   "source": [
    "Этот ноутбук посвящен применению методов семплирования ??? для повторения и улучшения метода\n",
    "расшифровки сообщений, который применял знаменитый персонаж Артура Конана Дойля Шерлок Холмс в рассказе \"Пляшущие человечки\".  Как известно, в рассказе великий сыщик расшифровал загадочные письмена, которые выглядели примерно так:"
   ]
  },
  {
   "cell_type": "markdown",
   "metadata": {},
   "source": [
    "![Dancing_men_2](img/Dancing_men_2.gif)"
   ]
  },
  {
   "cell_type": "markdown",
   "metadata": {},
   "source": [
    "Пользовался он для этого так называемым частотным методом: смотрел, какие буквы чаще встречаются в зашифрованных текстах, и пытался подставить буквы в соответствии с частотной таблицей: E — самая частая и так далее. После частнотности сыщик применял уже более развернутый анализ, навроде \"какое слово из 5 букв начинается и заканчивается на одну и ту же букву\". В этом ноутбуке будет предложен более современный и продвинутый вариант такого частотного метода."
   ]
  },
  {
   "cell_type": "markdown",
   "metadata": {},
   "source": [
    "### 1. Базовый частотный метод по Шерлоку Холмсу"
   ]
  },
  {
   "cell_type": "markdown",
   "metadata": {},
   "source": [
    "Но для начала импорты"
   ]
  },
  {
   "cell_type": "code",
   "execution_count": 29,
   "metadata": {},
   "outputs": [],
   "source": [
    "import re\n",
    "import numpy as np\n",
    "import random\n",
    "from collections import Counter\n",
    "from tqdm.notebook import tqdm\n",
    "import matplotlib.pyplot as plt\n",
    "from itertools import islice"
   ]
  },
  {
   "cell_type": "markdown",
   "metadata": {},
   "source": [
    "Вычитаем русские тексты в память и почистим"
   ]
  },
  {
   "cell_type": "code",
   "execution_count": 2,
   "metadata": {},
   "outputs": [],
   "source": [
    "with open('./corpora/AnnaKarenina.txt', 'r') as fin:\n",
    "    anna_karenina = fin.read()\n",
    "    \n",
    "with open('./corpora/WarAndPeace.txt', 'r') as fin:\n",
    "    war_and_peace = fin.read()"
   ]
  },
  {
   "cell_type": "markdown",
   "metadata": {},
   "source": [
    "Регулярка такова, чтобы дропать всякие французские символы из корпуса"
   ]
  },
  {
   "cell_type": "code",
   "execution_count": 3,
   "metadata": {},
   "outputs": [],
   "source": [
    "word_regex = re.compile('[А-я]+')"
   ]
  },
  {
   "cell_type": "code",
   "execution_count": 4,
   "metadata": {},
   "outputs": [],
   "source": [
    "anna_karenina_cleaned = ' '.join(word.lower() for word in word_regex.findall(anna_karenina))\n",
    "war_and_peace_cleaned = ' '.join(word.lower() for word in word_regex.findall(war_and_peace))"
   ]
  },
  {
   "cell_type": "code",
   "execution_count": 5,
   "metadata": {},
   "outputs": [
    {
     "data": {
      "text/plain": [
       "'война и мир самый известный роман льва николаевича толстого как никакое другое произведение писателя отражает глубину его мироощущения и философии эта книга из разряда вечных потому что она обо всем о жизни и смерти о любви и чести о мужестве и героизме о славе и подвиге о войне и мире первый том знакомит с высшим обществом россии века показаны взаимоотношения между родителями и детьми в семье ростовых сватовство у болконских интриги у безуховых вечера в салоне фрейлины а п шерер балы в москве и петербурге лев николаевич толстойчасть первая часть орая часть третья лев николаевич толстой война и мир том часть первая е поместья мой верный раб ну что князь генуа и лукка стали не больше как поместьями фамилии бонапарте нет я вас предупреждаю если вы мне не скажете что у нас война если вы еще позволите себе защищать все гадости все ужасы этого антихриста право я верю что он антихрист я вас больше не знаю вы уж не друг мой вы уж не мой верный раб как вы говорите ну здравствуйте здравствуйте '"
      ]
     },
     "execution_count": 5,
     "metadata": {},
     "output_type": "execute_result"
    }
   ],
   "source": [
    "war_and_peace_cleaned[:1000]"
   ]
  },
  {
   "cell_type": "markdown",
   "metadata": {},
   "source": [
    "Подготовим почву для шифровки текстов. Случайные перестановки - скучновато, никакой связи с пляшущими человечками. Самое близкое по духу,\n",
    "что есть для такой задачки в `Unicode` - эмодзи:)"
   ]
  },
  {
   "cell_type": "code",
   "execution_count": 6,
   "metadata": {},
   "outputs": [],
   "source": [
    "emoji_alphabet = '👨👮💂👰👸🤴🦸🦹🎅🧙🧝🧛🧟🧞🧜🧚👼🤰🤱🙇💁🙅🙋👭🤦🤷🧖💃🕺👯🕴🚶🧕'\n",
    "ru_alphabet = ''.join(sorted(list(set(anna_karenina_cleaned))))"
   ]
  },
  {
   "cell_type": "code",
   "execution_count": 7,
   "metadata": {},
   "outputs": [],
   "source": [
    "def generate_cipher(orig_alphabet, cipher_alphabet):\n",
    "    cipher_alphabet_shuffled = cipher_alphabet.copy()\n",
    "    random.shuffle(cipher_alphabet_shuffled)\n",
    "    conformity = {\n",
    "        orig_char: cipher_char\n",
    "        for orig_char, cipher_char in zip(orig_alphabet, cipher_alphabet_shuffled)}\n",
    "    sol = {cipher_char: orig_char for orig_char, cipher_char in conformity.items()}\n",
    "    return conformity, sol"
   ]
  },
  {
   "cell_type": "code",
   "execution_count": 8,
   "metadata": {},
   "outputs": [],
   "source": [
    "def encode_text(text, cipher):\n",
    "    return ''.join(cipher[ch] for ch in text)"
   ]
  },
  {
   "cell_type": "code",
   "execution_count": 9,
   "metadata": {},
   "outputs": [],
   "source": [
    "def decode_text(text, solution):\n",
    "    return ''.join(solution[ch] for ch in text)"
   ]
  },
  {
   "cell_type": "code",
   "execution_count": 10,
   "metadata": {},
   "outputs": [],
   "source": [
    "def accuracy_score(decoded_text, orig_text):\n",
    "    return (np.array(list(decoded_text)) == np.array(list(orig_text))).sum() / len(decoded_text)"
   ]
  },
  {
   "cell_type": "markdown",
   "metadata": {},
   "source": [
    "Зафиксируем шифр"
   ]
  },
  {
   "cell_type": "code",
   "execution_count": 11,
   "metadata": {},
   "outputs": [],
   "source": [
    "emoji_cipher, solution = generate_cipher(list(ru_alphabet), list(emoji_alphabet))"
   ]
  },
  {
   "cell_type": "markdown",
   "metadata": {},
   "source": [
    "Например (несколько sanity check-ов)"
   ]
  },
  {
   "cell_type": "code",
   "execution_count": 12,
   "metadata": {},
   "outputs": [
    {
     "name": "stdout",
     "output_type": "stream",
     "text": [
      "Исходный текст: 'а как же серсо',\n",
      "Зашифрованный '🚶🧛🧞🚶🧞🧛🙋👮🧛🤦👮🎅🤦🦸'\n"
     ]
    }
   ],
   "source": [
    "text = 'а как же серсо'\n",
    "encoded_text = encode_text(text, emoji_cipher)\n",
    "decoded_text = decode_text(encoded_text, solution)\n",
    "print(f'Исходный текст: {repr(text)},\\nЗашифрованный {repr(encoded_text)}')"
   ]
  },
  {
   "cell_type": "code",
   "execution_count": 13,
   "metadata": {},
   "outputs": [
    {
     "name": "stdout",
     "output_type": "stream",
     "text": [
      "Исходный зашифрованный текст: '🚶🧛🧞🚶🧞🧛🙋👮🧛🤦👮🎅🤦🦸',\n",
      "Расшифрованный 'а как же серсо'\n"
     ]
    }
   ],
   "source": [
    "print(f'Исходный зашифрованный текст: {repr(encoded_text)},\\nРасшифрованный {repr((decoded_text))}')"
   ]
  },
  {
   "cell_type": "code",
   "execution_count": 14,
   "metadata": {},
   "outputs": [
    {
     "name": "stdout",
     "output_type": "stream",
     "text": [
      "1.0\n"
     ]
    }
   ],
   "source": [
    "print(accuracy_score(text, decoded_text))"
   ]
  },
  {
   "cell_type": "markdown",
   "metadata": {},
   "source": [
    "Теперь закодируем тексты"
   ]
  },
  {
   "cell_type": "code",
   "execution_count": 15,
   "metadata": {},
   "outputs": [
    {
     "name": "stdout",
     "output_type": "stream",
     "text": [
      "🚶💃💃🚶🧛🧞🚶🎅👮💃💂💃🚶🧛🦸🧚💂💃🧛💂🧙🧛🤦🚶🕴🕺🧖🧛🧙💃🚶🕴👮💃💂🦹🕺🧖🧛🎅🦸🕴🚶💃🦸👨🧛👼🙅👨🚶🧛🦹🦸👼🤦🦹🦸👭🦸🧛💃🚶👸💂💃🚶👮🦹🤦💁🧛🤦🦹🚶👨🧝👮🤴🧛🚶🤱🦸🎅💂🧙🕴🦸🕴🧛🤱🎅🚶🧙🦸🤴🧛👨🤦👮🧛🤦👸🚶🤦🦹👼💂👨🕺👮🧛🤦👮🕴🙅💂🧛🤰🦸🧖🦸🙋💂🧛🧚🎅🙇👭🧛💃🚶🧛🧚🎅🙇👭🚶🧛🧞🚶🙋🧚🚶💁🧛💃👮🤦👸🚶🤦🦹👼💂👨🚶💁🧛🤦👮🕴🙅💁🧛💃👮🤦👸🚶🤦🦹👼💂👨🚶🧛🤰🦸🧛🤦👨🦸👮🕴🙇🧛🤷🦹🦸🧛🧞💃💂👭🚶🧛🦸🧛👨👮👸💃🕺🧖🧛👯👮💃💃🦸🤦🦹💁🧖🧛🦸🧛👼🧕🧟👨💂🧛🦸🧛👨👮🎅👮🧛🦸🧛🤦👮🕴🙅👮🧛🦸🧛👸👮👼🦸👨👮👸👮🤦🧞🦸🕴🧛🧚🦸🤦🦹🦸💂💃🤦🦹👨👮🧛👼👮👨🧛🦹🦸👼🤦🦹🦸🤴🎅🦸🕴🚶💃🧛🧝💂🎅🦸🧞🦸👭🦸🧛🧚🕺🧖🚶💃💂💁🧛👸🚶🤦🦹🙅🧛🤰👮🎅👨🚶💁🧛👼👮👨🧛🦹🦸👼🤦🦹🦸🤴🧛🚶💃💃🚶🧛🧞🚶🎅👮💃💂💃🚶🧛🎅🦸🕴🚶💃🧛🧝💂🎅🦸🧞🦸👭🦸🧛🧚🕺🧖🚶💃💂💁🧛🚶💃💃🚶🧛🧞🚶🎅👮💃💂💃🚶🧛🤰🦸🎅🚶🧙💂👼🚶🧛🤦🦸👨🎅👮🕴👮💃💃💂🧞🦸👨🧛👨🤦👮🧚💃👮👨💃🦸🤦🦹🙅🧕🧛🤦🦸🧚👮🎅🙋🚶💃💂💁🧛💃👮🦸🧟🕺👸🚶🤴💃🚶💁🧛🤦👨🦸🧟🦸🧚🚶🧛🎅🚶🤦🧞🦸👨🚶💃💃🦸🤦🦹🙅🧛🤰🦸👨👮🤦🦹👨🦸👨🚶💃💂💁🧛🙇🧚💂👨💂🦹👮👼🙅💃🦸🧛🤦🦸👸👮🦹🚶👼💂🤦🙅🧛👨🧛🤷🦹🦸\n"
     ]
    }
   ],
   "source": [
    "encoded_karenina = encode_text(anna_karenina_cleaned, emoji_cipher)\n",
    "encoded_war_and_peace = encode_text(war_and_peace_cleaned, emoji_cipher)\n",
    "print(encoded_karenina[:500])"
   ]
  },
  {
   "cell_type": "markdown",
   "metadata": {},
   "source": [
    "#### Базовый частотный метод"
   ]
  },
  {
   "cell_type": "markdown",
   "metadata": {},
   "source": [
    "На этапе обучения - просто запоминаем частоты букв в тренировочном корпусе.\n",
    "На этапе расшифровки - считаем частоты на тестовом тексте и составляем соответствие - _самая частая буква в тестовой строке == самая частая буква в обучающем корпусе_ и так далее"
   ]
  },
  {
   "cell_type": "code",
   "execution_count": 16,
   "metadata": {},
   "outputs": [],
   "source": [
    "class FreqCipherDecoder():\n",
    "    def __init__(self):\n",
    "        pass\n",
    "        \n",
    "    def fit(self, corpora: str):\n",
    "        char_cnt = dict(Counter(corpora).most_common())\n",
    "        len_corpora = len(corpora)\n",
    "        self.char_freq = {\n",
    "            ch: (cnt / len_corpora) for ch, cnt in char_cnt.items()\n",
    "        }\n",
    "        \n",
    "    def decode(self, encoded_text):\n",
    "        encoded_cnt = dict(Counter(encoded_text).most_common())\n",
    "        len_text = len(encoded_text)\n",
    "        encoded_freq = {\n",
    "            ch: (cnt / len_text) for ch, cnt in encoded_cnt.items()\n",
    "        }\n",
    "        self.solution = {\n",
    "            enc_ch: dec_ch for enc_ch, dec_ch in zip(encoded_freq.keys(), self.char_freq.keys())\n",
    "        }\n",
    "        \n",
    "        decoded_text = decode_text(encoded_text, self.solution)\n",
    "        return decoded_text"
   ]
  },
  {
   "cell_type": "markdown",
   "metadata": {},
   "source": [
    "Выучим частоты из Анны Карениной и дешифруем саму же Анну Каренину - очевидно получим 100% точность, поскольку все частоты будут на своих местах"
   ]
  },
  {
   "cell_type": "code",
   "execution_count": 17,
   "metadata": {},
   "outputs": [
    {
     "name": "stdout",
     "output_type": "stream",
     "text": [
      "Точность расшифровки если учиться на Анне Карениной и ее же расшифровывать:\n",
      "Accuracy = 1.0\n"
     ]
    }
   ],
   "source": [
    "decoder = FreqCipherDecoder()\n",
    "decoder.fit(anna_karenina_cleaned)\n",
    "decoded_karenina = decoder.decode(encoded_karenina)\n",
    "print(f'Точность расшифровки если учиться на Анне Карениной и ее же расшифровывать:\\n\\\n",
    "Accuracy = {accuracy_score(anna_karenina_cleaned, decoded_karenina)}')"
   ]
  },
  {
   "cell_type": "markdown",
   "metadata": {},
   "source": [
    "А вот расшифровывать случайные конечные куски будет уже далеко не так эффективно, поскольку не успевают набежать частоты букв, которые пронаблюдали для всего текста"
   ]
  },
  {
   "cell_type": "code",
   "execution_count": 18,
   "metadata": {},
   "outputs": [
    {
     "name": "stdout",
     "output_type": "stream",
     "text": [
      "Точность расшифровки если учиться на Анне Карениной, а расшифровывать ее небольшой кусок (размером 5000 символов):\n",
      "Accuracy = 0.2654\n",
      "\n",
      "--Наглядное качество расшифровки небольшого куска текста--\n",
      "\n",
      "иееи диваенеи омне ны тикуж ыеикаенсуж вокиеол рчли сортсозо еийнеиастг тсилюая ифовныкок фвиыоя лта тйитсрнлуа такчн ьожошн мвпз еи мвпзи дишмиг еатйитсрнлиг такчг еатйитсрнли ьо тлоакп хсо дензи о лайеуж щаееотсгж о рэблн о лава о такча о йаролайатдок мотсонетсла рал сортсоявокие юнводозо мужиенг йитсч ьавлиг рал сортсоя иееи диваенеи вокие юнводозо мужиенг иееи диваенеи ьовиынри толвакаеендол лтамеалеотсчэ томавшиенг еаобуйияеиг тлобоми витдолиееотсч ьолатслолиенг пмнлнсарчео тойасирнтч л хсо\n",
      "--------------------------------------------------\n"
     ]
    }
   ],
   "source": [
    "decoded_karenina_part = decoder.decode(encoded_karenina[:5000])\n",
    "print(f'Точность расшифровки если учиться на Анне Карениной, а расшифровывать ее небольшой кусок (размером 5000 символов):\\n\\\n",
    "Accuracy = {accuracy_score(anna_karenina_cleaned[:5000], decoded_karenina_part)}')\n",
    "print('\\n--Наглядное качество расшифровки небольшого куска текста--\\n')\n",
    "print(decoded_karenina_part[:500])\n",
    "print('-'*50)"
   ]
  },
  {
   "cell_type": "markdown",
   "metadata": {},
   "source": [
    "Как видно - ничего не понятно. Стоит отметить, что это в принципе повторяет сюжет рассказа - с появлением каждого нового текста из человечков главный герой все лучше и лучше разгадывал шифр. Построим график зависимости точности расшифровки от длины тестовой строки"
   ]
  },
  {
   "cell_type": "code",
   "execution_count": 22,
   "metadata": {},
   "outputs": [
    {
     "data": {
      "application/vnd.jupyter.widget-view+json": {
       "model_id": "197d8a0b39984ba38e1ae9ec950d2c43",
       "version_major": 2,
       "version_minor": 0
      },
      "text/plain": [
       "HBox(children=(FloatProgress(value=0.0, max=170.0), HTML(value='')))"
      ]
     },
     "metadata": {},
     "output_type": "display_data"
    },
    {
     "name": "stdout",
     "output_type": "stream",
     "text": [
      "\n"
     ]
    },
    {
     "data": {
      "text/plain": [
       "[<matplotlib.lines.Line2D at 0x7fa983343c10>]"
      ]
     },
     "execution_count": 22,
     "metadata": {},
     "output_type": "execute_result"
    },
    {
     "data": {
      "image/png": "[encoded data removed]",
      "text/plain": [
       "<Figure size 720x432 with 1 Axes>"
      ]
     },
     "metadata": {
      "needs_background": "light"
     },
     "output_type": "display_data"
    }
   ],
   "source": [
    "# Графические штуки\n",
    "lens, accuracies = [], []\n",
    "for test_len in tqdm(range(1000, len(anna_karenina_cleaned), 10000)):\n",
    "    lens.append(test_len)\n",
    "    accuracies.append(accuracy_score(decoder.decode(anna_karenina_cleaned[:test_len]), anna_karenina_cleaned[:test_len]))\n",
    "fig = plt.figure(figsize=(10, 6))\n",
    "ax = fig.add_subplot(111)\n",
    "ax.plot(lens, accuracies, label=\"Точность расшифровки\", linewidth=1.7)"
   ]
  },
  {
   "cell_type": "markdown",
   "metadata": {},
   "source": [
    "Как и ожидалось, начиная с какого-то достаточно гигансткого куска текста (примерно в половину произведения :)) точность увеличивается до 100% - \n",
    "успевают набраться частоты буквы, позволяющие им расположиться в отсортированном виде в том же порядке, как и во всем произведении"
   ]
  },
  {
   "cell_type": "markdown",
   "metadata": {},
   "source": [
    "Естественно, учить частоты на одном тексте, а дешифровать другой текст, такие зависимости пронаблюдать не позволяет. Посмотрим на примере романа \"Война и Мир\""
   ]
  },
  {
   "cell_type": "code",
   "execution_count": 24,
   "metadata": {},
   "outputs": [
    {
     "name": "stdout",
     "output_type": "stream",
     "text": [
      "Точность расшифровки если учиться на Анне Карениной, а расшифровывать всю Войну и Мир:\n",
      "Accuracy = 0.6363893631379427\n",
      "\n",
      "--Наглядное качество расшифровки--\n",
      "\n",
      "вожие н мнр семгж нбвастигж ромеи лыве инколеавнзе толстоьо кек инкекоа друьоа пронбвадаина пнсеталя отрейеат ьлучниу аьо мнрооцуцаиня н фнлософнн щте кинье нб ребряде вазигх потому зто оие очо всам о йнбин н смартн о лючвн н застн о муйаства н ьаронбма о слева н подвньа о вожиа н мнра парвгж том биекомнт с вгсшнм очцаством росснн ваке покебеиг вбенмоотиошаиня майду роднталямн н датымн в самыа ростовгх световство у чолкоискнх нитрньн у чабуховгх вазаре в селоиа фражлниг е п шарар челг в москва н патарчурьа лав инколеавнз толстожзесты парвея зесты орея зесты тратыя лав инколеавнз толстож вожие н мнр том зесты парвея а помастыя мож варигж реч иу зто киябы ьаиуе н лукке стелн иа чолыша кек пома\n",
      "--------------------------------------------------\n"
     ]
    }
   ],
   "source": [
    "decoded_war_and_peace = decoder.decode(encoded_war_and_peace)\n",
    "print(f'Точность расшифровки если учиться на Анне Карениной, а расшифровывать всю Войну и Мир:\\n\\\n",
    "Accuracy = {accuracy_score(war_and_peace_cleaned, decoded_war_and_peace)}')\n",
    "print('\\n--Наглядное качество расшифровки--\\n')\n",
    "print(decoded_war_and_peace[:700])\n",
    "print('-'*50)"
   ]
  },
  {
   "cell_type": "markdown",
   "metadata": {},
   "source": [
    "Видно, что закономерности встречаемости русских букв вообще в любых русских текстах частично позволяют с какой-то не совсем печальной\n",
    "точностью декодить тексты, но выглядит так себе"
   ]
  },
  {
   "cell_type": "code",
   "execution_count": 26,
   "metadata": {},
   "outputs": [
    {
     "data": {
      "application/vnd.jupyter.widget-view+json": {
       "model_id": "a39ce0707d31466c9e3b690a59f7bb91",
       "version_major": 2,
       "version_minor": 0
      },
      "text/plain": [
       "HBox(children=(FloatProgress(value=0.0, max=65.0), HTML(value='')))"
      ]
     },
     "metadata": {},
     "output_type": "display_data"
    },
    {
     "name": "stdout",
     "output_type": "stream",
     "text": [
      "\n"
     ]
    },
    {
     "data": {
      "text/plain": [
       "[<matplotlib.lines.Line2D at 0x7fa9836f6650>]"
      ]
     },
     "execution_count": 26,
     "metadata": {},
     "output_type": "execute_result"
    },
    {
     "data": {
      "image/png": "[encoded data removed]",
      "text/plain": [
       "<Figure size 720x432 with 1 Axes>"
      ]
     },
     "metadata": {
      "needs_background": "light"
     },
     "output_type": "display_data"
    }
   ],
   "source": [
    "# Графические штуки #2\n",
    "lens, accuracies = [], []\n",
    "for test_len in tqdm(range(1000, len(war_and_peace_cleaned), 10000)):\n",
    "    lens.append(test_len)\n",
    "    accuracies.append(accuracy_score(decoder.decode(war_and_peace_cleaned[:test_len]), war_and_peace_cleaned[:test_len]))\n",
    "fig = plt.figure(figsize=(10, 6))\n",
    "ax = fig.add_subplot(111)\n",
    "ax.plot(lens, accuracies, label=\"Точность расшифровки\", linewidth=1.7)"
   ]
  },
  {
   "cell_type": "markdown",
   "metadata": {},
   "source": [
    "### 2. Базовый частотный метод по Шерлоку Холмсу, но на биграммах"
   ]
  },
  {
   "cell_type": "markdown",
   "metadata": {},
   "source": [
    "На этапе обучения считаем и запоминаем частоты биграмм в исходном тексте"
   ]
  },
  {
   "cell_type": "code",
   "execution_count": 27,
   "metadata": {},
   "outputs": [],
   "source": [
    "class BigramFreqCipherDecoder():\n",
    "    def __init__(self):\n",
    "        pass\n",
    "        \n",
    "    def fit(self, corpora: str):\n",
    "        char_cnt = dict(Counter(corpora).most_common())\n",
    "        len_corpora = len(corpora)\n",
    "        self.char_freq = {\n",
    "            ch: (cnt / len_corpora) for ch, cnt in char_cnt.items()\n",
    "        }\n",
    "        \n",
    "    def decode(self, encoded_text):\n",
    "        encoded_cnt = dict(Counter(encoded_text).most_common())\n",
    "        len_text = len(encoded_text)\n",
    "        encoded_freq = {\n",
    "            ch: (cnt / len_text) for ch, cnt in encoded_cnt.items()\n",
    "        }\n",
    "        self.solution = {\n",
    "            enc_ch: dec_ch for enc_ch, dec_ch in zip(encoded_freq.keys(), self.char_freq.keys())\n",
    "        }\n",
    "        \n",
    "        decoded_text = decode_text(encoded_text, self.solution)\n",
    "        return decoded_text"
   ]
  },
  {
   "cell_type": "code",
   "execution_count": 37,
   "metadata": {},
   "outputs": [
    {
     "data": {
      "text/plain": [
       "1694972"
      ]
     },
     "execution_count": 37,
     "metadata": {},
     "output_type": "execute_result"
    }
   ],
   "source": [
    "len(list(islice(anna_karenina_cleaned, 1, None)))"
   ]
  },
  {
   "cell_type": "code",
   "execution_count": 35,
   "metadata": {},
   "outputs": [
    {
     "data": {
      "text/plain": [
       "1694973"
      ]
     },
     "execution_count": 35,
     "metadata": {},
     "output_type": "execute_result"
    }
   ],
   "source": [
    "len(anna_karenina_cleaned)"
   ]
  },
  {
   "cell_type": "code",
   "execution_count": 39,
   "metadata": {},
   "outputs": [
    {
     "data": {
      "text/plain": [
       "1694972"
      ]
     },
     "execution_count": 39,
     "metadata": {},
     "output_type": "execute_result"
    }
   ],
   "source": [
    "len(list(zip(anna_karenina_cleaned, islice(anna_karenina_cleaned, 1, None))))"
   ]
  },
  {
   "cell_type": "code",
   "execution_count": 31,
   "metadata": {},
   "outputs": [
    {
     "data": {
      "text/plain": [
       "[(('о', ' '), 40512),\n",
       " (('е', ' '), 31907),\n",
       " (('а', ' '), 31641),\n",
       " (('и', ' '), 30643),\n",
       " ((' ', 'н'), 27750),\n",
       " ((' ', 'с'), 27319),\n",
       " ((' ', 'в'), 25044),\n",
       " (('т', 'о'), 24155),\n",
       " ((' ', 'п'), 23799),\n",
       " ((' ', 'о'), 22814),\n",
       " (('я', ' '), 18823),\n",
       " ((' ', 'и'), 18730),\n",
       " (('н', 'а'), 18420),\n",
       " (('с', 'т'), 17653),\n",
       " (('ь', ' '), 17631),\n",
       " (('н', 'е'), 16580),\n",
       " (('н', 'о'), 16321),\n",
       " (('а', 'л'), 16127),\n",
       " ((' ', 'к'), 15317),\n",
       " ((' ', 'т'), 14061),\n",
       " (('г', 'о'), 14058),\n",
       " (('о', 'н'), 13884),\n",
       " (('п', 'о'), 13699),\n",
       " (('к', 'о'), 13139),\n",
       " (('н', 'и'), 12996),\n",
       " (('к', 'а'), 12953),\n",
       " (('л', 'а'), 12768),\n",
       " ((' ', 'д'), 12348),\n",
       " (('о', 'в'), 12277),\n",
       " (('е', 'н'), 12233),\n",
       " (('й', ' '), 12210),\n",
       " (('л', ' '), 12145),\n",
       " (('м', ' '), 11864),\n",
       " (('в', 'о'), 11765),\n",
       " (('р', 'о'), 11580),\n",
       " (('р', 'а'), 11537),\n",
       " ((' ', 'б'), 11300),\n",
       " (('у', ' '), 11191),\n",
       " ((' ', 'ч'), 10583),\n",
       " (('о', 'т'), 10561),\n",
       " (('т', 'ь'), 10409),\n",
       " (('п', 'р'), 10400),\n",
       " (('о', 'с'), 9824),\n",
       " (('л', 'о'), 9708),\n",
       " (('е', 'л'), 9644),\n",
       " ((' ', 'м'), 9394),\n",
       " (('н', ' '), 9211),\n",
       " (('о', 'л'), 9206),\n",
       " (('в', 'а'), 9179),\n",
       " (('в', ' '), 9168),\n",
       " (('о', 'р'), 9113),\n",
       " (('з', 'а'), 8939),\n",
       " (('л', 'и'), 8845),\n",
       " (('р', 'е'), 8822),\n",
       " ((' ', 'е'), 8821),\n",
       " (('л', 'е'), 8789),\n",
       " (('е', 'р'), 8758),\n",
       " (('с', 'к'), 8475),\n",
       " (('т', 'е'), 8392),\n",
       " (('т', 'а'), 8313),\n",
       " (('о', 'м'), 8096),\n",
       " (('к', ' '), 7891),\n",
       " (('а', 'н'), 7745),\n",
       " (('о', 'г'), 7738),\n",
       " (('в', 'и'), 7586),\n",
       " (('д', 'е'), 7549),\n",
       " (('е', 'т'), 7476),\n",
       " (('т', ' '), 7426),\n",
       " (('и', 'л'), 7409),\n",
       " (('р', 'и'), 7390),\n",
       " (('с', 'е'), 7356),\n",
       " (('ч', 'т'), 7356),\n",
       " (('в', 'е'), 7172),\n",
       " (('ы', ' '), 7130),\n",
       " (('д', 'а'), 7081),\n",
       " (('о', 'д'), 7044),\n",
       " ((' ', 'з'), 7028),\n",
       " ((' ', 'у'), 7001),\n",
       " (('а', 'з'), 6998),\n",
       " (('а', 'к'), 6997),\n",
       " (('а', 'т'), 6974),\n",
       " (('б', 'ы'), 6943),\n",
       " (('и', 'н'), 6910),\n",
       " (('ж', 'е'), 6803),\n",
       " (('е', 'м'), 6713),\n",
       " ((' ', 'р'), 6548),\n",
       " (('е', 'с'), 6451),\n",
       " (('т', 'и'), 6403),\n",
       " (('и', 'т'), 6390),\n",
       " (('д', 'о'), 6189),\n",
       " ((' ', 'л'), 6158),\n",
       " (('е', 'г'), 6124),\n",
       " (('л', 'ь'), 5913),\n",
       " (('а', 'с'), 5898),\n",
       " ((' ', 'г'), 5840),\n",
       " (('в', 'с'), 5805),\n",
       " (('о', 'б'), 5763),\n",
       " (('ю', ' '), 5710),\n",
       " (('ч', 'е'), 5648),\n",
       " ((' ', 'а'), 5380),\n",
       " (('м', 'о'), 5264),\n",
       " (('о', 'й'), 5142),\n",
       " (('а', 'в'), 5119),\n",
       " (('с', 'я'), 5025),\n",
       " (('м', 'е'), 4967),\n",
       " (('с', ' '), 4911),\n",
       " ((' ', 'э'), 4902),\n",
       " (('н', 'ы'), 4875),\n",
       " (('н', 'н'), 4871),\n",
       " (('к', 'и'), 4793),\n",
       " (('э', 'т'), 4749),\n",
       " (('с', 'ь'), 4691),\n",
       " (('и', 'м'), 4664),\n",
       " (('х', ' '), 4654),\n",
       " (('м', 'у'), 4574),\n",
       " (('т', 'в'), 4464),\n",
       " (('и', 'в'), 4453),\n",
       " (('м', 'и'), 4412),\n",
       " (('ы', 'л'), 4303),\n",
       " ((' ', 'ж'), 4291),\n",
       " (('с', 'л'), 4231),\n",
       " (('е', 'й'), 4194),\n",
       " (('е', 'в'), 4193),\n",
       " (('о', 'е'), 4155),\n",
       " (('м', 'а'), 4153),\n",
       " (('е', 'д'), 4086),\n",
       " (('н', 'у'), 4069),\n",
       " (('т', 'р'), 4067),\n",
       " (('и', 'е'), 4046),\n",
       " (('с', 'о'), 4040),\n",
       " (('а', 'м'), 4037),\n",
       " (('а', 'я'), 4034),\n",
       " (('в', 'ы'), 4012),\n",
       " (('а', 'р'), 3934),\n",
       " (('р', 'у'), 3787),\n",
       " (('ш', 'е'), 3776),\n",
       " (('ч', 'а'), 3732),\n",
       " ((' ', 'я'), 3731),\n",
       " (('х', 'о'), 3709),\n",
       " (('а', 'д'), 3639),\n",
       " (('е', 'е'), 3617),\n",
       " (('и', 'с'), 3587),\n",
       " (('п', 'е'), 3515),\n",
       " (('д', 'и'), 3426),\n",
       " (('б', 'е'), 3344),\n",
       " (('б', 'о'), 3306),\n",
       " (('з', 'н'), 3256),\n",
       " (('о', 'ж'), 3173),\n",
       " (('и', 'ч'), 3146),\n",
       " (('с', 'в'), 3045),\n",
       " (('д', 'у'), 3001),\n",
       " (('и', 'з'), 2997),\n",
       " (('с', 'а'), 2977),\n",
       " (('е', 'к'), 2930),\n",
       " (('и', 'я'), 2905),\n",
       " (('л', 'я'), 2905),\n",
       " (('у', 'ж'), 2858),\n",
       " (('н', 'я'), 2848),\n",
       " (('с', 'п'), 2805),\n",
       " (('о', 'ч'), 2680),\n",
       " (('и', 'к'), 2654),\n",
       " ((' ', 'х'), 2594),\n",
       " (('о', 'к'), 2584),\n",
       " (('и', 'д'), 2582),\n",
       " (('д', 'н'), 2549),\n",
       " (('ш', 'и'), 2539),\n",
       " (('у', 'д'), 2533),\n",
       " (('г', 'л'), 2516),\n",
       " (('д', 'р'), 2477),\n",
       " (('т', 'ы'), 2472),\n",
       " (('ж', 'и'), 2448),\n",
       " (('к', 'у'), 2360),\n",
       " (('ж', 'а'), 2322),\n",
       " (('к', 'р'), 2315),\n",
       " (('я', 'т'), 2259),\n",
       " (('е', 'п'), 2253),\n",
       " (('и', 'й'), 2238),\n",
       " (('с', 'и'), 2217),\n",
       " (('щ', 'е'), 2191),\n",
       " (('и', 'х'), 2190),\n",
       " (('ч', 'и'), 2162),\n",
       " (('е', 'б'), 2152),\n",
       " (('в', 'н'), 2121),\n",
       " (('м', 'н'), 2095),\n",
       " (('о', 'ш'), 2065),\n",
       " (('н', 'ь'), 2060),\n",
       " (('р', 'ы'), 2050),\n",
       " (('л', 'с'), 2024),\n",
       " (('ы', 'й'), 1995),\n",
       " (('л', 'у'), 1986),\n",
       " (('ь', 'к'), 1974),\n",
       " (('ь', 'н'), 1969),\n",
       " (('е', 'з'), 1950),\n",
       " (('у', 'м'), 1950),\n",
       " (('т', 'у'), 1942),\n",
       " (('ы', 'м'), 1939),\n",
       " (('п', 'а'), 1926),\n",
       " (('г', 'д'), 1921),\n",
       " (('а', 'ж'), 1882),\n",
       " (('у', 'л'), 1881),\n",
       " (('о', 'п'), 1873),\n",
       " (('у', 'в'), 1853),\n",
       " (('б', 'р'), 1837),\n",
       " (('з', ' '), 1801),\n",
       " (('т', 'н'), 1799),\n",
       " (('в', 'ш'), 1782),\n",
       " (('в', 'р'), 1780),\n",
       " (('н', 'с'), 1770),\n",
       " (('у', 'т'), 1732),\n",
       " (('а', 'е'), 1724),\n",
       " (('о', 'з'), 1698),\n",
       " (('л', 'ю'), 1685),\n",
       " (('у', 'с'), 1670),\n",
       " (('ж', 'н'), 1660),\n",
       " (('б', 'у'), 1631),\n",
       " (('ы', 'в'), 1630),\n",
       " (('у', 'г'), 1626),\n",
       " (('д', ' '), 1619),\n",
       " (('у', 'ю'), 1604),\n",
       " (('ы', 'е'), 1591),\n",
       " (('с', 'н'), 1587),\n",
       " (('л', 'ы'), 1557),\n",
       " (('е', 'ш'), 1552),\n",
       " (('м', 'ы'), 1551),\n",
       " (('к', 'с'), 1548),\n",
       " (('ч', 'у'), 1519),\n",
       " (('ш', 'а'), 1511),\n",
       " (('е', 'ч'), 1505),\n",
       " (('р', 'я'), 1474),\n",
       " (('у', 'ч'), 1451),\n",
       " (('р', 'ь'), 1437),\n",
       " (('т', 'с'), 1432),\n",
       " (('а', 'х'), 1415),\n",
       " (('я', 'с'), 1407),\n",
       " (('а', 'ю'), 1405),\n",
       " (('г', 'а'), 1404),\n",
       " (('б', 'а'), 1399),\n",
       " (('ы', 'х'), 1385),\n",
       " (('ь', 'с'), 1369),\n",
       " (('с', 'м'), 1369),\n",
       " (('х', 'а'), 1367),\n",
       " (('и', 'ц'), 1366),\n",
       " (('п', 'и'), 1359),\n",
       " (('я', 'л'), 1358),\n",
       " (('з', 'в'), 1349),\n",
       " (('д', 'л'), 1332),\n",
       " (('б', 'л'), 1330),\n",
       " (('е', 'ж'), 1321),\n",
       " (('о', 'ю'), 1320),\n",
       " (('а', 'ч'), 1313),\n",
       " (('е', 'х'), 1313),\n",
       " (('б', 'и'), 1301),\n",
       " (('в', 'л'), 1301),\n",
       " (('ч', ' '), 1295),\n",
       " (('д', 'ь'), 1288),\n",
       " (('ж', 'д'), 1286),\n",
       " (('з', 'д'), 1284),\n",
       " (('ы', 'с'), 1277),\n",
       " (('д', 'в'), 1274),\n",
       " (('г', 'и'), 1258),\n",
       " (('у', 'к'), 1252),\n",
       " (('о', 'и'), 1197),\n",
       " ((' ', 'ш'), 1187),\n",
       " (('ы', 'т'), 1187),\n",
       " (('г', ' '), 1164),\n",
       " (('у', 'ш'), 1160),\n",
       " (('г', 'р'), 1142),\n",
       " (('ц', 'е'), 1123),\n",
       " (('р', ' '), 1122),\n",
       " (('р', 'н'), 1115),\n",
       " (('щ', 'и'), 1114),\n",
       " (('я', 'н'), 1109),\n",
       " (('в', 'у'), 1103),\n",
       " (('а', 'ш'), 1067),\n",
       " (('н', 'д'), 1061),\n",
       " (('ю', 'б'), 1050),\n",
       " (('и', 'и'), 1029),\n",
       " (('к', 'н'), 1024),\n",
       " (('е', 'щ'), 1019),\n",
       " (('с', 'с'), 1014),\n",
       " (('а', 'п'), 995),\n",
       " (('а', 'б'), 991),\n",
       " (('а', 'г'), 984),\n",
       " (('г', 'у'), 984),\n",
       " (('у', 'п'), 952),\n",
       " (('р', 'к'), 939),\n",
       " (('у', 'р'), 926),\n",
       " ((' ', 'ф'), 904),\n",
       " (('ш', 'л'), 903),\n",
       " (('и', 'р'), 895),\n",
       " (('в', 'з'), 892),\n",
       " (('я', 'д'), 889),\n",
       " (('д', 'ы'), 887),\n",
       " (('а', 'й'), 885),\n",
       " (('т', 'я'), 875),\n",
       " (('у', 'б'), 873),\n",
       " (('з', 'г'), 865),\n",
       " (('с', 'у'), 862),\n",
       " (('п', 'у'), 858),\n",
       " (('к', 'е'), 839),\n",
       " (('б', 'я'), 836),\n",
       " (('й', 'с'), 832),\n",
       " (('о', 'я'), 831),\n",
       " (('ч', 'н'), 815),\n",
       " (('ь', 'е'), 812),\n",
       " (('ш', 'ь'), 807),\n",
       " (('т', 'к'), 799),\n",
       " (('з', 'я'), 794),\n",
       " (('ц', 'а'), 784),\n",
       " (('ы', 'б'), 774),\n",
       " (('р', 'т'), 767),\n",
       " (('п', 'л'), 765),\n",
       " (('с', 'ч'), 718),\n",
       " (('н', 'т'), 704),\n",
       " (('ы', 'ш'), 704),\n",
       " (('и', 'г'), 698),\n",
       " (('ь', 'и'), 682),\n",
       " (('ь', 'я'), 680),\n",
       " (('ь', 'ш'), 678),\n",
       " (('к', 'т'), 669),\n",
       " (('б', ' '), 666),\n",
       " (('е', 'ю'), 661),\n",
       " (('д', 'я'), 659),\n",
       " (('и', 'ш'), 655),\n",
       " (('ь', 'ю'), 646),\n",
       " (('и', 'б'), 644),\n",
       " (('м', 'я'), 644),\n",
       " (('з', 'ы'), 637),\n",
       " (('л', 'ж'), 630),\n",
       " (('ш', 'н'), 613),\n",
       " (('з', 'о'), 600),\n",
       " (('г', 'е'), 599),\n",
       " (('р', 'г'), 599),\n",
       " (('ш', 'к'), 593),\n",
       " (('е', 'я'), 590),\n",
       " (('н', 'ц'), 580),\n",
       " (('о', 'х'), 570),\n",
       " (('д', 'с'), 566),\n",
       " (('р', 'д'), 566),\n",
       " (('п', 'я'), 558),\n",
       " (('ю', 'щ'), 554),\n",
       " (('с', 'ы'), 550),\n",
       " (('к', 'л'), 549),\n",
       " (('ы', 'н'), 546),\n",
       " (('я', 'м'), 537),\n",
       " (('с', 'д'), 527),\n",
       " (('я', 'з'), 526),\n",
       " (('и', 'ж'), 522),\n",
       " (('в', 'д'), 520),\n",
       " (('ф', 'и'), 519),\n",
       " (('ч', 'к'), 517),\n",
       " (('р', 'в'), 507),\n",
       " (('з', 'и'), 506),\n",
       " (('р', 'ж'), 502),\n",
       " (('б', 'н'), 502),\n",
       " (('у', 'з'), 492),\n",
       " (('у', 'х'), 491),\n",
       " (('щ', 'а'), 485),\n",
       " (('л', 'н'), 483),\n",
       " (('я', 'ж'), 477),\n",
       " (('ш', 'у'), 473),\n",
       " (('л', 'к'), 473),\n",
       " (('ш', 'о'), 465),\n",
       " (('з', 'м'), 464),\n",
       " (('я', 'г'), 464),\n",
       " (('ы', 'р'), 463),\n",
       " (('ж', ' '), 463),\n",
       " (('т', 'ч'), 458),\n",
       " (('ц', 'о'), 457),\n",
       " (('й', 'н'), 455),\n",
       " (('ц', ' '), 444),\n",
       " ((' ', 'ц'), 440),\n",
       " (('в', 'я'), 438),\n",
       " (('з', 'у'), 434),\n",
       " (('т', 'л'), 433),\n",
       " (('я', 'в'), 431),\n",
       " (('а', 'ф'), 429),\n",
       " (('у', 'е'), 428),\n",
       " (('н', 'ч'), 425),\n",
       " (('л', 'л'), 425),\n",
       " (('н', 'к'), 420),\n",
       " (('п', 'ы'), 420),\n",
       " (('ф', 'р'), 419),\n",
       " (('и', 'ю'), 417),\n",
       " (('ю', 'т'), 417),\n",
       " (('б', 'щ'), 416),\n",
       " (('ж', 'у'), 405),\n",
       " (('б', 'к'), 400),\n",
       " (('з', 'е'), 397),\n",
       " (('ю', 'д'), 396),\n",
       " (('й', 'т'), 392),\n",
       " (('в', 'т'), 382),\n",
       " (('р', 'б'), 377),\n",
       " (('ь', 'м'), 360),\n",
       " (('у', 'н'), 353),\n",
       " (('р', 'ш'), 351),\n",
       " (('д', 'к'), 349),\n",
       " (('ц', 'у'), 349),\n",
       " (('р', 'с'), 344),\n",
       " (('в', 'п'), 344),\n",
       " (('а', 'щ'), 340),\n",
       " (('й', 'д'), 340),\n",
       " (('з', 'р'), 339),\n",
       " (('я', 'щ'), 336),\n",
       " (('у', 'щ'), 328),\n",
       " (('е', 'о'), 322),\n",
       " (('ц', 'и'), 321),\n",
       " (('я', 'х'), 315),\n",
       " (('в', 'ь'), 315),\n",
       " (('д', 'т'), 311),\n",
       " (('о', 'о'), 308),\n",
       " (('з', 'л'), 308),\n",
       " (('д', 'ц'), 293),\n",
       " (('ы', 'ч'), 292),\n",
       " (('г', 'н'), 289),\n",
       " (('к', 'в'), 281),\n",
       " (('ь', 'з'), 281),\n",
       " (('ч', 'ш'), 279),\n",
       " (('ы', 'к'), 270),\n",
       " (('е', 'ц'), 269),\n",
       " (('ю', 'с'), 269),\n",
       " (('з', 'б'), 267),\n",
       " (('ч', 'ь'), 267),\n",
       " (('з', 'ь'), 266),\n",
       " (('н', 'щ'), 264),\n",
       " (('н', 'ю'), 257),\n",
       " (('в', 'к'), 252),\n",
       " (('ц', 'ы'), 251),\n",
       " (('х', 'у'), 250),\n",
       " (('и', 'щ'), 248),\n",
       " (('о', 'щ'), 247),\n",
       " (('в', 'м'), 241),\n",
       " (('о', 'ф'), 239),\n",
       " (('и', 'п'), 233),\n",
       " (('я', 'я'), 225),\n",
       " (('с', 'х'), 225),\n",
       " (('ы', 'д'), 223),\n",
       " (('р', 'м'), 218),\n",
       " (('а', 'и'), 212),\n",
       " (('с', 'ю'), 208),\n",
       " (('ф', 'е'), 204),\n",
       " (('с', 'р'), 203),\n",
       " (('я', 'ч'), 203),\n",
       " (('а', 'ц'), 202),\n",
       " (('ъ', 'е'), 202),\n",
       " (('я', 'й'), 200),\n",
       " (('у', 'й'), 199),\n",
       " (('г', 'к'), 199),\n",
       " (('ъ', 'я'), 196),\n",
       " (('т', 'д'), 195),\n",
       " (('л', 'ч'), 194),\n",
       " (('л', 'г'), 193),\n",
       " (('у', 'я'), 191),\n",
       " (('ы', 'п'), 189),\n",
       " (('х', 'и'), 188),\n",
       " (('б', 'ъ'), 187),\n",
       " (('ц', 'к'), 185),\n",
       " (('р', 'ю'), 184),\n",
       " (('м', 'с'), 181),\n",
       " (('я', 'к'), 180),\n",
       " (('з', 'ж'), 175),\n",
       " ((' ', 'щ'), 172),\n",
       " (('ь', 'ц'), 170),\n",
       " (('д', 'ш'), 170),\n",
       " (('я', 'ю'), 166),\n",
       " (('н', 'г'), 166),\n",
       " (('ф', 'о'), 164),\n",
       " (('х', 'н'), 162),\n",
       " (('е', 'и'), 161),\n",
       " (('р', 'х'), 160),\n",
       " (('х', 'в'), 159),\n",
       " (('ж', 'с'), 159),\n",
       " (('и', 'а'), 158),\n",
       " (('з', 'к'), 158),\n",
       " (('и', 'о'), 154),\n",
       " (('м', 'л'), 152),\n",
       " (('е', 'у'), 152),\n",
       " (('ь', 'б'), 151),\n",
       " (('ж', 'к'), 150),\n",
       " (('о', 'ц'), 149),\n",
       " (('ф', 'а'), 149),\n",
       " (('ы', 'г'), 149),\n",
       " (('щ', 'у'), 148),\n",
       " (('б', 'в'), 144),\n",
       " (('й', 'л'), 144),\n",
       " (('х', 'л'), 143),\n",
       " (('н', 'р'), 142),\n",
       " (('ш', 'в'), 140),\n",
       " (('б', 'с'), 134),\n",
       " (('т', 'т'), 134),\n",
       " (('в', 'ч'), 129),\n",
       " (('я', 'е'), 127),\n",
       " (('м', 'р'), 121),\n",
       " (('м', 'ь'), 119),\n",
       " (('ь', 'т'), 118),\n",
       " (('й', 'ч'), 118),\n",
       " (('д', 'м'), 116),\n",
       " (('р', 'ч'), 113),\n",
       " (('х', 'р'), 113),\n",
       " (('ш', ' '), 108),\n",
       " (('д', 'п'), 108),\n",
       " (('й', 'к'), 108),\n",
       " (('п', 'н'), 106),\n",
       " (('ш', 'т'), 106),\n",
       " (('ы', 'з'), 103),\n",
       " (('с', 'ш'), 102),\n",
       " (('д', 'х'), 102),\n",
       " (('т', 'ц'), 101),\n",
       " (('ч', 'р'), 100),\n",
       " (('ь', 'ч'), 100),\n",
       " (('д', 'ъ'), 97),\n",
       " (('п', 'к'), 97),\n",
       " (('с', 'ц'), 97),\n",
       " (('р', 'п'), 97),\n",
       " (('б', 'м'), 96),\n",
       " (('в', 'х'), 96),\n",
       " (('м', 'п'), 94),\n",
       " (('з', 'ч'), 92),\n",
       " (('я', 'п'), 92),\n",
       " (('б', 'х'), 91),\n",
       " (('ф', 'ь'), 89),\n",
       " (('м', 'к'), 88),\n",
       " (('й', 'ш'), 87),\n",
       " (('с', 'б'), 87),\n",
       " (('з', 'с'), 87),\n",
       " (('й', 'м'), 87),\n",
       " (('е', 'а'), 86),\n",
       " (('о', 'у'), 86),\n",
       " (('а', 'у'), 85),\n",
       " (('ь', 'г'), 83),\n",
       " (('ч', 'о'), 82),\n",
       " (('р', 'л'), 82),\n",
       " (('т', 'п'), 81),\n",
       " (('п', 'т'), 81),\n",
       " (('х', 'м'), 81),\n",
       " (('я', 'ш'), 79),\n",
       " (('я', 'р'), 77),\n",
       " (('п', ' '), 76),\n",
       " (('т', 'ю'), 76),\n",
       " (('ж', 'о'), 74),\n",
       " (('ж', 'б'), 73),\n",
       " (('ф', ' '), 72),\n",
       " (('л', 'п'), 71),\n",
       " (('ч', 'л'), 71),\n",
       " (('э', 'л'), 71),\n",
       " (('о', 'э'), 70),\n",
       " (('х', 'с'), 70),\n",
       " (('й', 'ц'), 70),\n",
       " (('ю', 'ч'), 68),\n",
       " (('ж', 'ь'), 68),\n",
       " (('м', 'м'), 67),\n",
       " (('ж', 'ч'), 67),\n",
       " (('э', 'к'), 66),\n",
       " (('ю', 'р'), 66),\n",
       " (('я', 'и'), 64),\n",
       " (('г', 'ч'), 63),\n",
       " (('ц', 'в'), 63),\n",
       " (('у', 'а'), 62),\n",
       " (('д', 'д'), 62),\n",
       " (('х', 'е'), 59),\n",
       " (('п', 'ь'), 59),\n",
       " ((' ', 'ю'), 58),\n",
       " (('я', 'ц'), 58),\n",
       " (('т', 'ъ'), 58),\n",
       " (('ю', 'ю'), 57),\n",
       " (('б', 'д'), 54),\n",
       " (('щ', 'н'), 53),\n",
       " (('п', 'ч'), 52),\n",
       " (('в', 'г'), 51),\n",
       " (('р', 'щ'), 51),\n",
       " (('ь', 'в'), 49),\n",
       " (('г', 'с'), 49),\n",
       " (('м', 'г'), 48),\n",
       " (('р', 'ц'), 47),\n",
       " (('д', 'ч'), 45),\n",
       " (('с', 'ж'), 43),\n",
       " (('ь', 'д'), 43),\n",
       " (('ю', 'ш'), 42),\n",
       " (('ю', 'н'), 42),\n",
       " (('ф', 'у'), 42),\n",
       " (('ф', 'л'), 41),\n",
       " (('я', 'б'), 41),\n",
       " (('л', 'т'), 41),\n",
       " (('ы', 'ж'), 41),\n",
       " (('э', 'н'), 40),\n",
       " (('п', 'п'), 40),\n",
       " (('щ', 'ь'), 39),\n",
       " (('в', 'ц'), 39),\n",
       " (('с', 'ъ'), 38),\n",
       " (('д', 'б'), 37),\n",
       " (('э', 'п'), 36),\n",
       " (('в', 'в'), 36),\n",
       " (('т', 'м'), 35),\n",
       " (('т', 'ф'), 35),\n",
       " (('м', 'т'), 32),\n",
       " (('з', 'з'), 32),\n",
       " (('м', 'ч'), 31),\n",
       " (('ф', 'т'), 31),\n",
       " (('с', 'з'), 31),\n",
       " (('у', 'ф'), 30),\n",
       " (('л', 'б'), 29),\n",
       " (('к', 'к'), 28),\n",
       " (('в', 'б'), 27),\n",
       " (('н', 'ф'), 27),\n",
       " (('ю', 'м'), 27),\n",
       " (('р', 'р'), 27),\n",
       " (('р', 'з'), 26),\n",
       " (('б', 'ь'), 25),\n",
       " (('ь', 'щ'), 25),\n",
       " (('у', 'э'), 25),\n",
       " (('п', 'ц'), 24),\n",
       " (('ю', 'л'), 24),\n",
       " (('з', 'ъ'), 24),\n",
       " (('к', 'ж'), 23),\n",
       " (('и', 'ф'), 23),\n",
       " (('д', 'ж'), 23),\n",
       " (('н', 'з'), 23),\n",
       " (('л', 'д'), 23),\n",
       " (('з', 'т'), 22),\n",
       " (('н', 'б'), 22),\n",
       " (('п', 'ш'), 22),\n",
       " (('т', 'б'), 21),\n",
       " (('т', 'щ'), 21),\n",
       " (('м', 'б'), 21),\n",
       " (('ж', 'ж'), 19),\n",
       " (('е', 'ф'), 18),\n",
       " (('ф', 'с'), 18),\n",
       " (('ю', 'ц'), 18),\n",
       " (('к', 'ш'), 18),\n",
       " (('р', 'ф'), 18),\n",
       " (('т', 'х'), 17),\n",
       " (('и', 'у'), 17),\n",
       " (('с', 'г'), 17),\n",
       " (('м', 'ц'), 16),\n",
       " (('ю', 'х'), 16),\n",
       " (('х', 'ш'), 15),\n",
       " (('ь', 'о'), 14),\n",
       " (('б', 'ш'), 14),\n",
       " (('ю', 'п'), 14),\n",
       " (('п', 'с'), 13),\n",
       " (('с', 'ф'), 13),\n",
       " (('щ', ' '), 13),\n",
       " (('в', 'щ'), 13),\n",
       " (('б', 'т'), 13),\n",
       " (('н', 'в'), 13),\n",
       " (('к', 'ц'), 12),\n",
       " (('ъ', 'ю'), 12),\n",
       " (('э', 'р'), 12),\n",
       " (('ц', 'ц'), 12),\n",
       " (('д', 'ю'), 12),\n",
       " (('г', 'в'), 12),\n",
       " (('ф', 'ф'), 12),\n",
       " (('п', 'б'), 12),\n",
       " (('а', 'о'), 11),\n",
       " (('ю', 'ж'), 11),\n",
       " (('а', 'а'), 11),\n",
       " (('г', 'т'), 11),\n",
       " (('з', 'ш'), 11),\n",
       " (('э', 'з'), 10),\n",
       " (('б', 'ч'), 10),\n",
       " (('ш', 'п'), 10),\n",
       " (('а', 'э'), 10),\n",
       " (('х', 'т'), 10),\n",
       " (('т', 'г'), 10),\n",
       " (('б', 'ц'), 10),\n",
       " (('б', 'ж'), 9),\n",
       " (('ы', 'у'), 9),\n",
       " (('ж', 'г'), 9),\n",
       " (('щ', 'р'), 9),\n",
       " (('г', 'ш'), 9),\n",
       " (('ы', 'и'), 9),\n",
       " (('м', 'щ'), 8),\n",
       " (('т', 'ж'), 8),\n",
       " (('ч', 'м'), 8),\n",
       " (('б', 'ю'), 8),\n",
       " (('ш', 'м'), 8),\n",
       " (('ф', 'ы'), 8),\n",
       " (('э', 'с'), 7),\n",
       " (('э', ' '), 7),\n",
       " (('к', 'з'), 7),\n",
       " (('ч', 'в'), 7),\n",
       " (('м', 'ш'), 7),\n",
       " (('л', 'ф'), 7),\n",
       " (('з', 'ц'), 7),\n",
       " (('з', 'ю'), 7),\n",
       " (('й', 'ф'), 7),\n",
       " (('д', 'г'), 7),\n",
       " (('в', 'ъ'), 7),\n",
       " (('н', 'ж'), 7),\n",
       " (('л', 'в'), 6),\n",
       " (('м', 'в'), 6),\n",
       " (('ю', 'з'), 6),\n",
       " (('б', 'г'), 6),\n",
       " (('л', 'ш'), 6),\n",
       " (('у', 'ц'), 6),\n",
       " (('у', 'о'), 6),\n",
       " (('ш', 'ю'), 6),\n",
       " (('ю', 'г'), 6),\n",
       " (('г', 'ю'), 6),\n",
       " (('ю', 'к'), 6),\n",
       " (('к', 'д'), 6),\n",
       " (('ж', 'л'), 6),\n",
       " (('ь', 'п'), 6),\n",
       " (('п', 'щ'), 5),\n",
       " (('э', 'й'), 5),\n",
       " (('п', 'ю'), 5),\n",
       " (('м', 'з'), 5),\n",
       " (('ю', 'в'), 5),\n",
       " (('у', 'и'), 5),\n",
       " (('л', 'з'), 5),\n",
       " (('ф', 'м'), 5),\n",
       " (('э', 'г'), 4),\n",
       " ((' ', 'й'), 4),\n",
       " (('ж', 'м'), 4),\n",
       " (('в', 'ю'), 4),\n",
       " (('м', 'ю'), 4),\n",
       " (('ш', 'ц'), 4),\n",
       " (('т', 'э'), 4),\n",
       " (('о', 'а'), 4),\n",
       " (('ь', 'э'), 4),\n",
       " (('б', 'з'), 4),\n",
       " (('г', 'г'), 4),\n",
       " (('ь', 'ф'), 4),\n",
       " (('й', 'р'), 3),\n",
       " (('ы', 'я'), 3),\n",
       " (('ф', 'н'), 3),\n",
       " (('т', 'з'), 3),\n",
       " (('й', 'о'), 3),\n",
       " (('э', 'ф'), 3),\n",
       " (('с', 'э'), 3),\n",
       " (('ю', 'ф'), 3),\n",
       " (('э', 'м'), 3),\n",
       " (('э', 'д'), 3),\n",
       " (('с', 'щ'), 3),\n",
       " (('ю', 'а'), 3),\n",
       " (('н', 'м'), 3),\n",
       " (('д', 'з'), 2),\n",
       " (('н', 'ш'), 2),\n",
       " (('ь', 'ж'), 2),\n",
       " (('ю', 'и'), 2),\n",
       " (('б', 'б'), 2),\n",
       " (('й', 'е'), 2),\n",
       " (('ш', 'ш'), 2),\n",
       " (('й', 'б'), 2),\n",
       " (('ф', 'ю'), 2),\n",
       " (('к', 'ф'), 2),\n",
       " (('в', 'ж'), 2),\n",
       " (('щ', 'о'), 2),\n",
       " (('ц', 'м'), 2),\n",
       " (('х', 'г'), 2),\n",
       " (('ф', 'я'), 2),\n",
       " (('к', 'х'), 2),\n",
       " (('ъ', ' '), 2),\n",
       " (('ш', 'р'), 2),\n",
       " (('м', 'ф'), 2),\n",
       " (('ь', 'х'), 2),\n",
       " (('г', 'ф'), 2),\n",
       " (('н', 'х'), 2),\n",
       " (('ш', 'ф'), 2),\n",
       " (('э', 'в'), 2),\n",
       " (('ж', 'ю'), 2),\n",
       " (('г', 'б'), 1),\n",
       " (('ж', 'ц'), 1),\n",
       " (('ы', 'ц'), 1),\n",
       " (('х', 'ъ'), 1),\n",
       " ((' ', 'ы'), 1),\n",
       " ((' ', 'ь'), 1),\n",
       " (('я', 'у'), 1),\n",
       " (('ц', 'б'), 1),\n",
       " (('л', 'ц'), 1),\n",
       " (('л', 'щ'), 1),\n",
       " (('т', 'ш'), 1),\n",
       " (('г', 'м'), 1),\n",
       " (('э', 'ш'), 1),\n",
       " (('й', 'з'), 1),\n",
       " (('ф', 'ч'), 1),\n",
       " (('й', 'щ'), 1),\n",
       " (('м', 'ж'), 1),\n",
       " (('д', 'щ'), 1),\n",
       " (('п', 'ф'), 1),\n",
       " (('х', 'п'), 1),\n",
       " (('х', 'д'), 1),\n",
       " (('г', 'з'), 1),\n",
       " (('х', 'ч'), 1),\n",
       " (('ы', 'щ'), 1),\n",
       " (('ж', 'р'), 1),\n",
       " (('л', 'м'), 1),\n",
       " (('у', 'у'), 1),\n",
       " (('ц', 'л'), 1),\n",
       " (('и', 'э'), 1),\n",
       " (('к', 'м'), 1)]"
      ]
     },
     "execution_count": 31,
     "metadata": {},
     "output_type": "execute_result"
    }
   ],
   "source": [
    "Counter(zip(anna_karenina_cleaned, islice(anna_karenina_cleaned, 1, None)))"
   ]
  },
  {
   "cell_type": "code",
   "execution_count": null,
   "metadata": {},
   "outputs": [],
   "source": []
  }
 ],
 "metadata": {
  "kernelspec": {
   "display_name": "Python 3",
   "language": "python",
   "name": "python3"
  },
  "language_info": {
   "codemirror_mode": {
    "name": "ipython",
    "version": 3
   },
   "file_extension": ".py",
   "mimetype": "text/x-python",
   "name": "python",
   "nbconvert_exporter": "python",
   "pygments_lexer": "ipython3",
   "version": "3.7.4"
  }
 },
 "nbformat": 4,
 "nbformat_minor": 4
}
