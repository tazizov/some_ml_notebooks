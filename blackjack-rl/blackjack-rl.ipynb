{
 "cells": [
  {
   "cell_type": "markdown",
   "id": "3b1b21b7-2507-48d0-b78e-a67d4ed08177",
   "metadata": {},
   "source": [
    "# RL с блэкджэком и Дастином Хоффманом"
   ]
  },
  {
   "cell_type": "markdown",
   "id": "0b9561eb-7130-41c0-b72c-05d091a91dbe",
   "metadata": {},
   "source": [
    "Эта тетрадка посвящена решению первого домашнего задания курса С. Николенко по обучению с подкреплением в рамках 3 семестра MADE.\n",
    "Предлагается обучаться играть в очень простую, но  популярную игру: [**блекджек**](https://en.wikipedia.org/wiki/Blackjack). "
   ]
  },
  {
   "cell_type": "markdown",
   "id": "02cd9afa-4623-42ae-a692-affa7127594c",
   "metadata": {},
   "source": [
    "## Часть первая, с блекджеком и стратегиями"
   ]
  },
  {
   "cell_type": "markdown",
   "id": "3d0e4b70-3a8a-423d-94e5-fd662b26a41c",
   "metadata": {},
   "source": [
    "### Введение"
   ]
  },
  {
   "cell_type": "markdown",
   "id": "d642b602-bcbb-4584-a545-c4f73b27a7b3",
   "metadata": {},
   "source": [
    "> давайте начнём с самой базовой версии, которая реализована в OpenAI Gym"
   ]
  },
  {
   "cell_type": "code",
   "execution_count": 1,
   "id": "30876f02-5eb7-4167-9e34-6f245976393e",
   "metadata": {},
   "outputs": [],
   "source": [
    "from gym.envs.toy_text.blackjack import BlackjackEnv"
   ]
  },
  {
   "cell_type": "markdown",
   "id": "0817110c-954c-4da9-a629-a3125e4f7638",
   "metadata": {},
   "source": [
    "Базовые правила, реализованные в `gym` (из docstring-а):\n",
    "\n",
    "- цель игры - получить на руки карты, сумма которых как можно ближе к 21, но при этом не больше 21.\n",
    "- стоимости карт: \n",
    "    - от 2 до 10 для карт с цифрами\n",
    "    - 10 для валетов (Jack), дам (Queen) и королей (King)\n",
    "    - 11 для туза (ace), если при этом сумма очков не выходит за 21 (такой случай называется usable ace), 1 - если выходит\n",
    "- игра начинаеися с того, что раздается по 2 карты дилеру и игроку - игроку обе карты в открытую, дилеру - только одну карту в открытую\n",
    "- каждый ход игрок может либо попросить еще карту (hit (`action == 1`)), либо остановиться (stick (`action == 0`))\n",
    "- если игрок в очередной раз попросил карту и сумма его очков превысила 21 - он проиграл (bust), и его награда равна -1\n",
    "- если игрок решил остановиться, дилер открывает свою закрытую карту и тянет карты в открытую до тех пор, пока его сумма очков не становится >= 17\n",
    "- если дилер превысил 21 (goes bust) - он проиграл, награда игрока = 1\n",
    "- если нет, то победитель определяется тем, у кого сумма очков ближе к 21. Если сумма очков дилера равна сумме очков игрока, засчитывается ничья, награда = 0\n",
    "\n",
    "Кроме того, в реализации `gym` для `BlackjackEnv` есть еще две настройки - `natural=False` и `sab=False`.\n",
    "\n",
    "- `natural=False` включает/выключает в правила награду в 1.5 за natural руку у игрока (natural - рука, сумма очков в которой равна 21 с первых двух карт)\n",
    "- `sab=False` включает/выключает полную поддердку правил из примера 5.1 книги Reinforcement Learning: An Introduction (Sutton, Barto). Единственное различие, которое я увидел, заключается в том, как я понял, что если и у дилера и у игрока natural-рука, то это ничья"
   ]
  },
  {
   "cell_type": "markdown",
   "id": "4619485b-34e6-4d97-93fd-461c5397a28f",
   "metadata": {},
   "source": [
    "Попробуем позапускать:"
   ]
  },
  {
   "cell_type": "code",
   "execution_count": 2,
   "id": "acdc37c9-82d1-41af-bca3-d31b604d1318",
   "metadata": {},
   "outputs": [
    {
     "data": {
      "text/plain": [
       "(9, 3, False)"
      ]
     },
     "execution_count": 2,
     "metadata": {},
     "output_type": "execute_result"
    }
   ],
   "source": [
    "env = BlackjackEnv(natural=True)\n",
    "env.seed(11)\n",
    "env.reset()"
   ]
  },
  {
   "cell_type": "markdown",
   "id": "66f9bc69-872c-41c8-8f09-985312585cd1",
   "metadata": {},
   "source": [
    "Первое число - сумма на руке игрока, второе - стоимость открытой карты дилера, 3 - есть ли usable_ace.\n",
    "Попросим еще карту"
   ]
  },
  {
   "cell_type": "code",
   "execution_count": 3,
   "id": "a006c89b-e027-421f-8690-c79658475e40",
   "metadata": {},
   "outputs": [
    {
     "data": {
      "text/plain": [
       "((19, 3, False), 0.0, False, {})"
      ]
     },
     "execution_count": 3,
     "metadata": {},
     "output_type": "execute_result"
    }
   ],
   "source": [
    "hit = 1\n",
    "stick = 0\n",
    "env.step(action=hit)"
   ]
  },
  {
   "cell_type": "markdown",
   "id": "3f67b43c-e869-433b-b2b6-9185fd1a2d6b",
   "metadata": {},
   "source": [
    "Новые 2 числа - это текущая награда и закончился ли эпизод"
   ]
  },
  {
   "cell_type": "code",
   "execution_count": 4,
   "id": "5c54db80-e4c2-46e0-8dfd-31351bc9766f",
   "metadata": {},
   "outputs": [
    {
     "data": {
      "text/plain": [
       "((19, 3, False), 0.0, True, {})"
      ]
     },
     "execution_count": 4,
     "metadata": {},
     "output_type": "execute_result"
    }
   ],
   "source": [
    "env.step(action=stick)"
   ]
  },
  {
   "cell_type": "markdown",
   "id": "993baaf5-880b-4c91-9cce-1d1c96c4c7aa",
   "metadata": {},
   "source": [
    "Ничья :)"
   ]
  },
  {
   "cell_type": "markdown",
   "id": "0e270127-25f1-432c-bc02-9ecc87d211ed",
   "metadata": {},
   "source": [
    "### 1.1 Наивная стратегия"
   ]
  },
  {
   "cell_type": "markdown",
   "id": "d0b0dfc5-26f8-4829-8a29-b999dcd41bb3",
   "metadata": {},
   "source": [
    " > Рассмотрим очень простую стратегию: говорить stand, если у нас на руках комбинация в 19, 20 или 21 очко, во всех остальных случаях говорить hit. Используйте методы Монте-Карло, чтобы оценить выигрыш от этой стратегии."
   ]
  },
  {
   "cell_type": "code",
   "execution_count": 5,
   "id": "c36df531-4f4c-4317-b0ba-a3efe66e06d8",
   "metadata": {},
   "outputs": [],
   "source": [
    "import numpy as np\n",
    "import pandas as pd\n",
    "from tqdm.notebook import tqdm\n",
    "from abc import ABC, abstractmethod\n",
    "from pprint import pprint\n",
    "from itertools import product\n",
    "from multiprocessing import Pool\n",
    "import os\n",
    "import seaborn as sns\n",
    "import matplotlib.pyplot as plt\n",
    "\n",
    "sns.set_style(\"whitegrid\")\n",
    "sns.set_palette(\"colorblind\")\n",
    "palette = sns.color_palette()\n",
    "figsize = (10,6)\n",
    "legend_fontsize = 16\n",
    "\n",
    "from matplotlib import rc\n",
    "rc('font',**{'family':'sans-serif'})"
   ]
  },
  {
   "cell_type": "markdown",
   "id": "65ddffd3-a208-400a-b5e4-d29785064b4f",
   "metadata": {},
   "source": [
    "Каждый игрок - это наследник класса `BasePlayer`, у которого реализован метод `strategy`, принимающий как аргумент предыдущее состояние среды и возвращающий `action`.\n",
    "Для наивного игрока этот метод выглядит совсем просто:"
   ]
  },
  {
   "cell_type": "code",
   "execution_count": 6,
   "id": "8bbc5fd1-32c9-446d-8de5-c7b62b6e2034",
   "metadata": {},
   "outputs": [],
   "source": [
    "class BasePlayer(ABC):\n",
    "    @abstractmethod\n",
    "    def strategy(self, previous_state):\n",
    "        raise NotImplementedError(\"Implement me in subclass\")\n",
    "    \n",
    "    def action(self, previous_state):\n",
    "        return self.strategy(previous_state)\n",
    "    \n",
    "    def set_training(self):\n",
    "        self.training = True\n",
    "    \n",
    "    def set_playing(self):\n",
    "        self.training = False\n",
    "\n",
    "class NaivePlayer(BasePlayer):\n",
    "    def strategy(self, previous_state):\n",
    "        my_sum = previous_state[0]\n",
    "        return int(my_sum < 19)\n",
    "    def __str__(self):\n",
    "        return f'Player'"
   ]
  },
  {
   "cell_type": "markdown",
   "id": "febc7cca-7c5c-4953-8d94-08d3f6b29c85",
   "metadata": {},
   "source": [
    "Класс `BlackJackGame` является по сути оберткой над `BlackJackEnv`, позволяющей запустить один эпизод для игрока (функция `run_episode`), а также Монте-Карло оценку игрока (`mc_check`). Монте-Карло оценка просто [итеративно](https://www.heikohoffmann.de/htmlthesis/node134.html) считает среднюю награду:\n",
    "\n",
    "$$\\overline{x}_0 = 0$$\n",
    "$$\\overline{x}_{i + 1} = \\overline{x}_{i} + \\frac{x_{i + 1} - \\overline{x}_{i}}{i + 1}$$"
   ]
  },
  {
   "cell_type": "code",
   "execution_count": 35,
   "id": "bdd0c141-c992-4573-8b83-0186cea90396",
   "metadata": {},
   "outputs": [],
   "source": [
    "class BlackJackGame:\n",
    "    def __init__(self, env):\n",
    "        self.env = env\n",
    "    \n",
    "    def run_episode(self, player, return_history=False):\n",
    "        episode_history = []\n",
    "        prev_env_return = self.env.reset()\n",
    "        prev_env_return = (prev_env_return, 0.0, False, {})\n",
    "        state, reward, episode_ended, _ = prev_env_return\n",
    "        episode_history.append((prev_env_return, None))\n",
    "        while not episode_ended:\n",
    "            action = player.action(state)\n",
    "            prev_env_return = self.env.step(action)\n",
    "            state, reward, episode_ended, _ = prev_env_return\n",
    "            episode_history.append((prev_env_return, action))\n",
    "        if return_history:\n",
    "            return reward, episode_history\n",
    "        else:\n",
    "            return reward\n",
    "    \n",
    "    def mc_check(self, player, n_iter=100_000, use_tqdm=True):\n",
    "        mean_reward = self.run_episode(player, return_history=False)\n",
    "        for i in tqdm(range(n_iter), total=n_iter, desc=f'Checking {player}', disable=not use_tqdm):\n",
    "            reward = self.run_episode(player, return_history=False)\n",
    "            mean_reward += (reward - mean_reward) / (i + 1)\n",
    "        return mean_reward"
   ]
  },
  {
   "cell_type": "code",
   "execution_count": 36,
   "id": "1662928d-2c24-4a8d-b23e-4812f079b0da",
   "metadata": {},
   "outputs": [],
   "source": [
    "nplayer = NaivePlayer()\n",
    "env = BlackjackEnv()\n",
    "game = BlackJackGame(env)"
   ]
  },
  {
   "cell_type": "markdown",
   "id": "3310b761-4de8-4887-8681-ddaad5ff035a",
   "metadata": {},
   "source": [
    "Запустим 100к итераций Монте-Карло оценки, чтобы оценить средний выигрыш наивного игрока"
   ]
  },
  {
   "cell_type": "code",
   "execution_count": 37,
   "id": "113c7b1c-4cb7-4b15-a479-1569bfa25095",
   "metadata": {},
   "outputs": [
    {
     "data": {
      "application/vnd.jupyter.widget-view+json": {
       "model_id": "ad8c30f31e12474fa0e54266696f779c",
       "version_major": 2,
       "version_minor": 0
      },
      "text/plain": [
       "Checking Player:   0%|          | 0/100000 [00:00<?, ?it/s]"
      ]
     },
     "metadata": {},
     "output_type": "display_data"
    },
    {
     "name": "stdout",
     "output_type": "stream",
     "text": [
      "Mean reward = -0.2025\n"
     ]
    }
   ],
   "source": [
    "mean_reward = game.mc_check(nplayer, n_iter=100000, use_tqdm=True)\n",
    "print(f'Mean reward = {mean_reward: .4f}')"
   ]
  },
  {
   "cell_type": "markdown",
   "id": "705f3d36-5cfc-4acd-abcb-a735e4731edf",
   "metadata": {},
   "source": [
    "### 1.2 RL без модели"
   ]
  },
  {
   "cell_type": "markdown",
   "id": "1c24a15c-8a64-40a9-ba6f-07cfeb16280e",
   "metadata": {},
   "source": [
    "> Реализуйте метод обучения с подкреплением без модели (можно Q-обучение, но рекомендую попробовать и другие, например Monte Carlo control) для обучения стратегии в блекджеке, используя окружение Blackjack-v0 из OpenAI Gym."
   ]
  },
  {
   "cell_type": "markdown",
   "id": "ecd39b1a-dd1b-4515-bfea-ea824ae0235e",
   "metadata": {},
   "source": [
    "Для релизации понадобится хранить историю эпизода. Я решил хранить историю следующим образом - каждый элемент истории эпизода это:\n",
    "- состояние среды\n",
    "- награда\n",
    "- закончилась ли игра\n",
    "- какой то вечно пустой словарик из OpenAI Gym\n",
    "- action, который привел игрока в это состояние"
   ]
  },
  {
   "cell_type": "code",
   "execution_count": 10,
   "id": "9cfebe44",
   "metadata": {},
   "outputs": [
    {
     "name": "stdout",
     "output_type": "stream",
     "text": [
      "[(((13, 4, False), 0.0, False, {}), None),\n",
      " (((23, 4, False), -1.0, True, {}), 1)]\n"
     ]
    }
   ],
   "source": [
    "reward, episode_history = game.run_episode(nplayer, return_history=True)\n",
    "pprint(episode_history)"
   ]
  },
  {
   "cell_type": "markdown",
   "id": "5d56a190-7f8e-4d98-b068-58eeec76b600",
   "metadata": {},
   "source": [
    "В качестве алгоритма RL без модели я выбрал off-policy Monte Carlo control с мягкими стратегиями"
   ]
  },
  {
   "cell_type": "code",
   "execution_count": 14,
   "id": "594311c3-f5e9-45ca-8dfa-d80e0c09698e",
   "metadata": {},
   "outputs": [],
   "source": [
    "from collections import defaultdict\n",
    "\n",
    "class OffPolicySoftGreedyMCControlPlayer(BasePlayer):\n",
    "    \n",
    "    def __init__(self, action_dim, eps=1e-3, gamma=1):\n",
    "        self.set_training()\n",
    "        self.eps = eps\n",
    "        self.gamma = gamma\n",
    "        self.q = defaultdict(lambda: np.zeros(action_dim))\n",
    "        self.c = defaultdict(lambda: np.zeros(action_dim))\n",
    "        self.action_dim = action_dim\n",
    "        self.total_iter_learning = 0\n",
    "    \n",
    "    def __str__(self):\n",
    "        return f'Player(gamma={self.gamma}, eps={self.eps})'\n",
    "    \n",
    "    def reset(self):\n",
    "        self.total_iter_learning = 0\n",
    "        self.q = defaultdict(lambda: np.zeros(action_dim))\n",
    "        self.c = defaultdict(lambda: np.zeros(action_dim))\n",
    "    \n",
    "    def update_q(self, episode_history):\n",
    "        self.total_iter_learning += 1\n",
    "        prob_greedy_action = 1 - (self.action_dim - 1) * self.eps / self.action_dim\n",
    "        if not self.training:\n",
    "            raise ValueError('Player must be in training mode for updating Q. Use player.set_training()')\n",
    "        else:\n",
    "            g = 0\n",
    "            w = 1\n",
    "            for t in np.arange(len(episode_history) - 2, -1, -1):\n",
    "                (state, reward, is_done, _), prev_action = episode_history[t]\n",
    "                (state_next, reward_next, is_done_next, _), prev_action = episode_history[t + 1]\n",
    "                g = self.gamma * g + reward_next\n",
    "                self.c[state][prev_action] += w\n",
    "                self.q[state][prev_action] += (w / self.c[state][prev_action]) * (g - self.q[state][prev_action])\n",
    "                greedy_action = self.greedy_step(state)\n",
    "                if greedy_action != prev_action:\n",
    "                    break\n",
    "                w /= prob_greedy_action\n",
    "    \n",
    "    def greedy_step(self, previous_state):\n",
    "        return np.argmax(self.q[previous_state])\n",
    "    \n",
    "    def soft_greedy_step(self, previous_state):\n",
    "        coin = np.random.rand()\n",
    "        if coin > self.eps:\n",
    "            return self.greedy_step(previous_state)\n",
    "        else:\n",
    "            return np.random.randint(self.action_dim)\n",
    "    \n",
    "    def strategy(self, previous_state):\n",
    "        if self.training:\n",
    "            return self.soft_greedy_step(previous_state)\n",
    "        else:\n",
    "            return self.greedy_step(previous_state)"
   ]
  },
  {
   "cell_type": "markdown",
   "id": "05957659-0e1c-405d-9f41-fae088b8fb0b",
   "metadata": {},
   "source": [
    "Также, я решил запихнуть всякие функции по тренировке и построению графиков в класс `Trainer`"
   ]
  },
  {
   "cell_type": "code",
   "execution_count": 55,
   "id": "8d9c11f8-6a9e-4ab6-9f93-a74233985419",
   "metadata": {},
   "outputs": [],
   "source": [
    "class Trainer:\n",
    "    def __init__(self, game):\n",
    "        self.game = game\n",
    "    \n",
    "    def train(self, player, n_iter, use_tqdm=True):\n",
    "        for i in tqdm(range(n_iter), desc=f\"Training {player}\", disable=not use_tqdm):\n",
    "            reward, episode_history = self.game.run_episode(player, return_history=True)\n",
    "            player.update_q(episode_history)\n",
    "        \n",
    "    def grid_search_params(self, player, params_grid, n_iter_train=100000,\n",
    "                           n_iter_check=100000, printing=True, use_tqdm=True, use_tqdm_training=False,\n",
    "                           use_tqdm_checking=False):\n",
    "        params_sets = [dict(zip(params_grid.keys(), values)) for values in product(*params_grid.values())]\n",
    "        player_class = player.__class__\n",
    "        val_rewards = []\n",
    "        for params_set in tqdm(params_sets, desc='Grid search', disable=not use_tqdm):\n",
    "            new_player = player_class(**params_set)\n",
    "            self.train(new_player, n_iter_train, use_tqdm=use_tqdm_training)\n",
    "            mean_reward = self.game.mc_check(new_player, n_iter_check, use_tqdm=use_tqdm_checking)\n",
    "            if printing:\n",
    "                print(f'{new_player} mean reward {mean_reward: .4f}')\n",
    "            val_rewards.append(mean_reward)\n",
    "        best_params = params_sets[np.argmax(val_rewards)]\n",
    "        return {'best_params': best_params, 'best_reward': max(val_rewards)}\n",
    "    \n",
    "    def plot_learning(self, player, max_iter_train=500000, iter_train_step=50000, n_iter_check=100000):\n",
    "        val_rewards = []\n",
    "        n_steps = max_iter_train // iter_train_step\n",
    "        for i in tqdm(range(n_steps), desc='Collecting plot data'):\n",
    "            self.train(player, iter_train_step, use_tqdm=False)\n",
    "            val_rewards.append(self.game.mc_check(player, n_iter_check, use_tqdm=False))\n",
    "        x_plot = np.arange(iter_train_step, max_iter_train + iter_train_step, iter_train_step)\n",
    "        plt.figure(figsize=figsize)\n",
    "        sns.lineplot(x=x_plot, y=val_rewards, alpha=0.7)\n",
    "        sns.scatterplot(x=x_plot, y=val_rewards, alpha=0.7, label='Mean reward')\n",
    "        plt.xlabel('n_iter_train')\n",
    "        plt.ylabel(f'Mean reward ({n_iter_check} iter)')\n",
    "        plt.title('Зависимость средней награды от числа итераций обучения')"
   ]
  },
  {
   "cell_type": "code",
   "execution_count": 38,
   "id": "8bc0a15f",
   "metadata": {},
   "outputs": [
    {
     "data": {
      "application/vnd.jupyter.widget-view+json": {
       "model_id": "a1491d4c47934893a97d3ee314057008",
       "version_major": 2,
       "version_minor": 0
      },
      "text/plain": [
       "Training Player(gamma=1, eps=0.001):   0%|          | 0/50000 [00:00<?, ?it/s]"
      ]
     },
     "metadata": {},
     "output_type": "display_data"
    },
    {
     "data": {
      "application/vnd.jupyter.widget-view+json": {
       "model_id": "eb662a3ccc034073a39329c710a9af26",
       "version_major": 2,
       "version_minor": 0
      },
      "text/plain": [
       "Checking Player(gamma=1, eps=0.001):   0%|          | 0/100000 [00:00<?, ?it/s]"
      ]
     },
     "metadata": {},
     "output_type": "display_data"
    },
    {
     "name": "stdout",
     "output_type": "stream",
     "text": [
      "Mean reward = -0.1119\n"
     ]
    }
   ],
   "source": [
    "mc_control_player = OffPolicySoftGreedyMCControlPlayer(action_dim=2, eps=1e-3, gamma=1)\n",
    "trainer = Trainer(game=game)\n",
    "trainer.train(mc_control_player, 50000, use_tqdm=True)\n",
    "mean_reward = game.mc_check(mc_control_player, 100000, use_tqdm=True)\n",
    "print(f'Mean reward = {mean_reward: .4f}')"
   ]
  },
  {
   "cell_type": "markdown",
   "id": "dfe0cb01-b936-4aa4-b375-f5127925d501",
   "metadata": {},
   "source": [
    "Видно, что такой игрок играет ощутимо лучше, чем наивная стратегия. Попробуем подобрать оптимальные гиперпараметры"
   ]
  },
  {
   "cell_type": "code",
   "execution_count": 13,
   "id": "98d5ae09",
   "metadata": {},
   "outputs": [],
   "source": [
    "# grid = {\n",
    "#     'action_dim': [2],\n",
    "#     'eps': [0.001, 0.005, 0.01, 0.05, 0.1, 0.25, 0.5, 0.75 ],\n",
    "#     'gamma': [0.1, 0.25, 0.5, 0.75, 1., 2]\n",
    "# }\n",
    "\n",
    "# grid_search_result = trainer.grid_search_params(mc_control_player, grid, printing=True, n_iter_train=100000, n_iter_check=100000,\n",
    "#                            use_tqdm=True, use_tqdm_training=False, use_tqdm_checking=False)\n",
    "# print(grid_search_result)"
   ]
  },
  {
   "cell_type": "code",
   "execution_count": 14,
   "id": "702fdb11-cc87-4621-bd05-a03c687fe9a3",
   "metadata": {},
   "outputs": [],
   "source": [
    "grid_search_result = {'best_params': {'action_dim': 2, 'eps': 0.005, 'gamma': 0.1}, 'best_reward': -0.039200000000000235}"
   ]
  },
  {
   "cell_type": "markdown",
   "id": "1f11546b-eb38-4bef-a6ae-5647c437380e",
   "metadata": {},
   "source": [
    "Также построим график зависимости средней награды от числа итераций обучения:\n",
    "- учим игрока `iter_train_step` итераций\n",
    "- оценивем получившуюся жадную стратегию `n_iter_check` итераций\n",
    "- дообучаем еще `iter_train_step` итераций, пока не достигли `max_iter_train`"
   ]
  },
  {
   "cell_type": "code",
   "execution_count": 15,
   "id": "b3c7ef27",
   "metadata": {},
   "outputs": [
    {
     "data": {
      "application/vnd.jupyter.widget-view+json": {
       "model_id": "4d72f9c244e64ba58a1ec562a7b86cec",
       "version_major": 2,
       "version_minor": 0
      },
      "text/plain": [
       "Collecting plot data:   0%|          | 0/200 [00:00<?, ?it/s]"
      ]
     },
     "metadata": {},
     "output_type": "display_data"
    },
    {
     "data": {
      "image/png": "[encoded data removed]",
      "text/plain": [
       "<Figure size 720x432 with 1 Axes>"
      ]
     },
     "metadata": {},
     "output_type": "display_data"
    }
   ],
   "source": [
    "mc_control_player_best_params = OffPolicySoftGreedyMCControlPlayer(**grid_search_result['best_params'])\n",
    "trainer.plot_learning(mc_control_player_best_params, max_iter_train=1000000, iter_train_step=5000, n_iter_check=100000)"
   ]
  },
  {
   "cell_type": "markdown",
   "id": "7c077a76-6f92-4c69-a6ce-2b5d58610359",
   "metadata": {},
   "source": [
    "Видно, что с ростом числа итераций игрок играет все лучше, и учить его нужно около 1кк итераций, однако выиграть у казино шансов нет, поскольку кривая выходит на плато."
   ]
  },
  {
   "cell_type": "markdown",
   "id": "1c50343d-3fa3-40bb-8fce-4e32d0bf6008",
   "metadata": {},
   "source": [
    "**Добавить иллюстрацию стратегии, которую выучил игрок**"
   ]
  },
  {
   "cell_type": "markdown",
   "id": "cbf4767d-2551-4b57-a5f7-42c4c273845a",
   "metadata": {},
   "source": [
    "## Часть вторая, удвоенная"
   ]
  },
  {
   "cell_type": "markdown",
   "id": "ae8cef48-ddeb-4cd9-a436-edeb8817f94c",
   "metadata": {},
   "source": [
    "> В базовый блекджек, описанный в предыдущем разделе, обыграть казино вряд ли получится. Но, к счастью, на этом история не заканчивается. Описанные выше правила были упрощёнными, а на самом деле у игрока есть ещё и другие возможности. Реализовывать split может оказаться непросто, поэтому давайте ограничимся удвоением ставки."
   ]
  },
  {
   "cell_type": "markdown",
   "id": "17d85dd7-d3ec-4dbf-a22a-c60f5918e02a",
   "metadata": {},
   "source": [
    "Итак, у игрока появляется дополнительное действие: **double** — удвоить ставку; при этом больше действий делать нельзя, игроку выдаётся ровно одна дополнительная карта, а выигрыш или проигрыш удваивается.\n",
    "\n",
    "Для начала реализуем окружение с возможность удвоения. Для этого скопируем код `BlackJackEnv` из [репозитория OpenAI](https://github.com/openai/gym), и немного модифицируем"
   ]
  },
  {
   "cell_type": "code",
   "execution_count": 57,
   "id": "b360403f-c807-4d59-ac89-54854dc399cf",
   "metadata": {},
   "outputs": [],
   "source": [
    "from gym import spaces, Env\n",
    "from gym.utils import seeding\n",
    "\n",
    "class DoubleBlackjackEnv(Env):\n",
    "    def __init__(self, natural=False, sab=False):\n",
    "        self.action_space = spaces.Discrete(3)\n",
    "        self.observation_space = spaces.Tuple(\n",
    "            (spaces.Discrete(32), spaces.Discrete(11), spaces.Discrete(2))\n",
    "        )\n",
    "        self.seed()\n",
    "\n",
    "        # Flag to payout 1.5 on a \"natural\" blackjack win, like casino rules\n",
    "        # Ref: http://www.bicyclecards.com/how-to-play/blackjack/\n",
    "        self.natural = natural\n",
    "\n",
    "        # Flag for full agreement with the (Sutton and Barto, 2018) definition. Overrides self.natural\n",
    "        self.sab = sab\n",
    "        \n",
    "        self.deck = [1, 2, 3, 4, 5, 6, 7, 8, 9, 10, 10, 10, 10]\n",
    "\n",
    "    def seed(self, seed=None):\n",
    "        self.np_random, seed = seeding.np_random(seed)\n",
    "        return [seed]\n",
    "    \n",
    "    def stop_drawing(self):\n",
    "        while self.sum_hand(self.dealer) < 17:\n",
    "            self.dealer.append(self.draw_card(self.np_random))\n",
    "        reward = self.cmp(self.score(self.player), self.score(self.dealer))\n",
    "        if self.sab and self.is_natural(self.player) and not self.is_natural(self.dealer):\n",
    "            # Player automatically wins. Rules consistent with S&B\n",
    "            reward = 1.0\n",
    "        elif (\n",
    "            not self.sab\n",
    "            and self.natural\n",
    "            and self.is_natural(self.player)\n",
    "            and reward == 1.0\n",
    "        ):\n",
    "            # Natural gives extra points, but doesn't autowin. Legacy implementation\n",
    "            reward = 1.5\n",
    "        return reward\n",
    "    \n",
    "    def step(self, action):\n",
    "        assert self.action_space.contains(action)\n",
    "        if action == 1:  # hit: add a card to players hand and return\n",
    "            self.player.append(self.draw_card(self.np_random))\n",
    "            if self.is_bust(self.player):\n",
    "                done = True\n",
    "                reward = -1.0\n",
    "            else:\n",
    "                done = False\n",
    "                reward = 0.0\n",
    "        elif action == 2:\n",
    "            self.player.append(self.draw_card(self.np_random))\n",
    "            done = True\n",
    "            if self.is_bust(self.player):\n",
    "                reward = -1.0\n",
    "            else:\n",
    "                reward = self.stop_drawing()\n",
    "            reward *= 2\n",
    "                \n",
    "        else:  # stick: play out the dealers hand, and score\n",
    "            done = True\n",
    "            reward = self.stop_drawing()\n",
    "        return self._get_obs(), reward, done, {}\n",
    "    \n",
    "    def _get_obs(self):\n",
    "        return (self.sum_hand(self.player), self.dealer[0], self.usable_ace(self.player))\n",
    "\n",
    "    def reset(self):\n",
    "        self.dealer = self.draw_hand(self.np_random)\n",
    "        self.player = self.draw_hand(self.np_random)\n",
    "        return self._get_obs()\n",
    "    \n",
    "    def draw_card(self, np_random):\n",
    "        return int(np_random.choice(self.deck))\n",
    "\n",
    "    @staticmethod\n",
    "    def cmp(a, b):\n",
    "        return float(a > b) - float(a < b)\n",
    "       \n",
    "    def draw_hand(self, np_random):\n",
    "        return [self.draw_card(np_random), self.draw_card(np_random)]\n",
    "\n",
    "    @staticmethod\n",
    "    def usable_ace(hand):  # Does this hand have a usable ace?\n",
    "        return 1 in hand and sum(hand) + 10 <= 21\n",
    "\n",
    "    def sum_hand(self, hand):  # Return current hand total\n",
    "        if self.usable_ace(hand):\n",
    "            return sum(hand) + 10\n",
    "        return sum(hand)\n",
    "\n",
    "    def is_bust(self, hand):  # Is this hand a bust?\n",
    "        return self.sum_hand(hand) > 21\n",
    "\n",
    "    def score(self, hand):  # What is the score of this hand (0 if bust)\n",
    "        return 0 if self.is_bust(hand) else self.sum_hand(hand)\n",
    "\n",
    "    @staticmethod\n",
    "    def is_natural(hand):  # Is this hand a natural blackjack?\n",
    "        return sorted(hand) == [1, 10]"
   ]
  },
  {
   "cell_type": "code",
   "execution_count": 58,
   "id": "8b9d0493-2222-4e9c-9238-d19e5a6a5400",
   "metadata": {},
   "outputs": [],
   "source": [
    "double_env = DoubleBlackjackEnv(natural=True)\n",
    "double_mc_control_player = OffPolicySoftGreedyMCControlPlayer(action_dim=3)\n",
    "double_game = BlackJackGame(double_env)"
   ]
  },
  {
   "cell_type": "code",
   "execution_count": 12,
   "id": "d07eccfd-f948-4e22-a570-dc8cca45116b",
   "metadata": {},
   "outputs": [
    {
     "data": {
      "application/vnd.jupyter.widget-view+json": {
       "model_id": "47e1445c65474018b40ce8c07fe94db3",
       "version_major": 2,
       "version_minor": 0
      },
      "text/plain": [
       "Training Player(gamma=1, eps=0.001):   0%|          | 0/50000 [00:00<?, ?it/s]"
      ]
     },
     "metadata": {},
     "output_type": "display_data"
    },
    {
     "data": {
      "application/vnd.jupyter.widget-view+json": {
       "model_id": "997f1bad818c4c0aa6d14c2e2f433c63",
       "version_major": 2,
       "version_minor": 0
      },
      "text/plain": [
       "Checking Player(gamma=1, eps=0.001):   0%|          | 0/100000 [00:00<?, ?it/s]"
      ]
     },
     "metadata": {},
     "output_type": "display_data"
    },
    {
     "data": {
      "text/plain": [
       "-0.13029999999999717"
      ]
     },
     "execution_count": 12,
     "metadata": {},
     "output_type": "execute_result"
    }
   ],
   "source": [
    "double_trainer = Trainer(double_game)\n",
    "double_trainer.train(double_mc_control_player, 50000)\n",
    "double_game.mc_check(double_mc_control_player)"
   ]
  },
  {
   "cell_type": "code",
   "execution_count": 13,
   "id": "a3a612bf-e2c5-490d-8221-574c92da4b53",
   "metadata": {},
   "outputs": [],
   "source": [
    "# grid = {\n",
    "#     'action_dim': [3],\n",
    "#     'eps': [0.001, 0.005, 0.01, 0.05, 0.1, 0.25, 0.5, 0.75 ],\n",
    "#     'gamma': [0.05, 0.075, 0.1, 0.25, 0.5, 0.75, 1., 2]\n",
    "# }\n",
    "\n",
    "# grid_search_result = double_trainer.grid_search_params(double_mc_control_player, grid, printing=True, n_iter_train=100000, n_iter_check=100000,\n",
    "#                            use_tqdm=True, use_tqdm_training=False, use_tqdm_checking=False)\n",
    "# print(grid_search_result)"
   ]
  },
  {
   "cell_type": "code",
   "execution_count": 14,
   "id": "22cadead-ea57-4480-8bb3-3a1493757485",
   "metadata": {},
   "outputs": [],
   "source": [
    "grid_search_result = {'best_params': {'action_dim': 3, 'eps': 0.01, 'gamma': 0.1}, 'best_reward': -0.03599000000000011}"
   ]
  },
  {
   "cell_type": "code",
   "execution_count": 15,
   "id": "47651911-df92-4eb3-92cc-86844ab07d7a",
   "metadata": {},
   "outputs": [
    {
     "data": {
      "application/vnd.jupyter.widget-view+json": {
       "model_id": "04df81a697d64dc98fc2b7f0ac8fd4da",
       "version_major": 2,
       "version_minor": 0
      },
      "text/plain": [
       "Collecting plot data:   0%|          | 0/200 [00:00<?, ?it/s]"
      ]
     },
     "metadata": {},
     "output_type": "display_data"
    },
    {
     "data": {
      "image/png": "[encoded data removed]",
      "text/plain": [
       "<Figure size 720x432 with 1 Axes>"
      ]
     },
     "metadata": {},
     "output_type": "display_data"
    }
   ],
   "source": [
    "double_mc_control_player_best_params = OffPolicySoftGreedyMCControlPlayer(**grid_search_result['best_params'])\n",
    "double_trainer.plot_learning(double_mc_control_player_best_params,\n",
    "                      max_iter_train=1000000,\n",
    "                      iter_train_step=5000,\n",
    "                      n_iter_check=50000)"
   ]
  },
  {
   "cell_type": "markdown",
   "id": "fc66edf6-a704-4773-b6c8-ef3e14ecf286",
   "metadata": {},
   "source": [
    "Видно, что удвоение позволяет игроку выигрывать еще чаще, но казино все еще в плюсе"
   ]
  },
  {
   "cell_type": "markdown",
   "id": "b05ac695-137c-4f76-99b1-a377aafc569c",
   "metadata": {},
   "source": [
    "**Добавить иллюстрацию итоговой стратегии** "
   ]
  },
  {
   "cell_type": "markdown",
   "id": "81d8bcfb-d6a1-435f-a468-14bc13775663",
   "metadata": {},
   "source": [
    "## Часть третья, в главной роли — Дастин Хоффман"
   ]
  },
  {
   "cell_type": "markdown",
   "id": "1c7dfe1d-4e85-4729-9ecc-78817bed46f4",
   "metadata": {},
   "source": [
    "> А теперь давайте вспомним, как играют в блекджек настоящие профессионалы. Дело в том, что в оффлайн-казино обычно не перемешивают колоду после каждой раздачи — это слишком замедляло бы игру. После раздачи карты просто раздаются дальше с верха колоды до тех пор, пока карт не останется слишком мало, и только тогда колода перемешивается; давайте для определённости считать, что наше казино будет перемешивать колоду, в которой осталось меньше 15 карт. Реализуйте вариант окружения Blackjack-v0 из предыдущей части (с удвоением), в котором игрок имеет возможность “считать карты” в колоде"
   ]
  },
  {
   "cell_type": "markdown",
   "id": "354bf33b-7b49-4eb3-9240-18c0939682f2",
   "metadata": {},
   "source": [
    "Наверное, лучший вариант, чтобы \"реализовать\" подсчет - это в качестве вектора состояния хранить какие карты вышли, а какие нет (полностью). Но тогда кажется, что пространство состояний сильно распухнет, и чтобы для всех возможных состояний набежало достаточно статистики по наградам - учиться придется очень долго. Поэтому для начала реализуем вариант подсчета \"плюс-минус\" или \"половинки\", описанный в [статье на вики](https://ru.wikipedia.org/wiki/%D0%91%D0%BB%D1%8D%D0%BA%D0%B4%D0%B6%D0%B5%D0%BA). Конечно не очень выглядит, что как будто `env` считает карты и выдает нам уже очки после вызова функции `draw_hand`, но выбор делать подсчет не в игроке, а в `env`-е, ни на что не влияет "
   ]
  },
  {
   "cell_type": "code",
   "execution_count": 61,
   "id": "e8acfbbd-bea4-4d71-8479-3399afebdcb4",
   "metadata": {},
   "outputs": [],
   "source": [
    "from gym import spaces, Env\n",
    "from gym.utils import seeding\n",
    "\n",
    "class DoubleBlackjackEnvWithCounting(Env):\n",
    "    def __init__(self, natural=False, sab=False):\n",
    "        self.action_space = spaces.Discrete(3)\n",
    "        self.observation_space = spaces.Tuple(\n",
    "            (spaces.Discrete(32), spaces.Discrete(11), spaces.Discrete(2))\n",
    "        )\n",
    "        self.seed()\n",
    "\n",
    "        # Flag to payout 1.5 on a \"natural\" blackjack win, like casino rules\n",
    "        # Ref: http://www.bicyclecards.com/how-to-play/blackjack/\n",
    "        self.natural = natural\n",
    "\n",
    "        # Flag for full agreement with the (Sutton and Barto, 2018) definition. Overrides self.natural\n",
    "        self.sab = sab\n",
    "        \n",
    "        self.deck = [1, 2, 3, 4, 5, 6, 7, 8, 9, 10, 10, 10, 10] * 4\n",
    "        self.temperature = 0\n",
    "        \n",
    "    def seed(self, seed=None):\n",
    "        self.np_random, seed = seeding.np_random(seed)\n",
    "        return [seed]\n",
    "    \n",
    "    def stop_drawing(self):\n",
    "        while self.sum_hand(self.dealer) < 17:\n",
    "            self.dealer.append(self.draw_card(self.np_random))\n",
    "        reward = self.cmp(self.score(self.player), self.score(self.dealer))\n",
    "        if self.sab and self.is_natural(self.player) and not self.is_natural(self.dealer):\n",
    "            # Player automatically wins. Rules consistent with S&B\n",
    "            reward = 1.0\n",
    "        elif (\n",
    "            not self.sab\n",
    "            and self.natural\n",
    "            and self.is_natural(self.player)\n",
    "            and reward == 1.0\n",
    "        ):\n",
    "            # Natural gives extra points, but doesn't autowin. Legacy implementation\n",
    "            reward = 1.5\n",
    "        return reward\n",
    "    \n",
    "    def step(self, action):\n",
    "        assert self.action_space.contains(action)\n",
    "        if action == 1:  # hit: add a card to players hand and return\n",
    "            self.player.append(self.draw_card(self.np_random))\n",
    "            if self.is_bust(self.player):\n",
    "                done = True\n",
    "                reward = -1.0\n",
    "            else:\n",
    "                done = False\n",
    "                reward = 0.0\n",
    "        elif action == 2:\n",
    "            self.player.append(self.draw_card(self.np_random))\n",
    "            done = True\n",
    "            if self.is_bust(self.player):\n",
    "                reward = -1.0\n",
    "            else:\n",
    "                reward = self.stop_drawing()\n",
    "            reward *= 2\n",
    "                \n",
    "        else:  # stick: play out the dealers hand, and score\n",
    "            done = True\n",
    "            reward = self.stop_drawing()\n",
    "        return self._get_obs(), reward, done, {}\n",
    "    \n",
    "    def _get_obs(self):\n",
    "        return (self.sum_hand(self.player), self.dealer[0], self.usable_ace(self.player), self.temperature)\n",
    "\n",
    "    def reset(self):\n",
    "        if len(self.deck) < 15:\n",
    "            self.deck = [1, 2, 3, 4, 5, 6, 7, 8, 9, 10, 10, 10, 10] * 4\n",
    "            self.temperature = 0\n",
    "        self.dealer = self.draw_hand(self.np_random)\n",
    "        self.player = self.draw_hand(self.np_random)\n",
    "        return self._get_obs()\n",
    "    \n",
    "    def draw_card(self, np_random):\n",
    "        card = int(np_random.choice(self.deck))\n",
    "        self.deck.remove(card)\n",
    "        self.temperature = self.update_temperature(card)\n",
    "        return card\n",
    "    \n",
    "    def update_temperature(self, card):\n",
    "        if card in (2, 7):\n",
    "            temp_delta = 0.5\n",
    "        elif card in (3, 4, 6):\n",
    "            temp_delta = 1\n",
    "        elif card == 5:\n",
    "            temp_delta = 1.5\n",
    "        elif card == 8:\n",
    "            temp_delta = 0\n",
    "        elif card == 9:\n",
    "            temp_delta = -0.5\n",
    "        elif card in (1, 10):\n",
    "            temp_delta = -1\n",
    "        else:\n",
    "            raise ValueError(f'Look at wiki again - {card}')\n",
    "        new_temperature = self.temperature + temp_delta\n",
    "        return new_temperature\n",
    "\n",
    "    @staticmethod\n",
    "    def cmp(a, b):\n",
    "        return float(a > b) - float(a < b)\n",
    "       \n",
    "    def draw_hand(self, np_random):\n",
    "        return [self.draw_card(np_random), self.draw_card(np_random)]\n",
    "\n",
    "    @staticmethod\n",
    "    def usable_ace(hand):  # Does this hand have a usable ace?\n",
    "        return 1 in hand and sum(hand) + 10 <= 21\n",
    "\n",
    "    def sum_hand(self, hand):  # Return current hand total\n",
    "        if self.usable_ace(hand):\n",
    "            return sum(hand) + 10\n",
    "        return sum(hand)\n",
    "\n",
    "    def is_bust(self, hand):  # Is this hand a bust?\n",
    "        return self.sum_hand(hand) > 21\n",
    "\n",
    "    def score(self, hand):  # What is the score of this hand (0 if bust)\n",
    "        return 0 if self.is_bust(hand) else self.sum_hand(hand)\n",
    "\n",
    "    @staticmethod\n",
    "    def is_natural(hand):  # Is this hand a natural blackjack?\n",
    "        return sorted(hand) == [1, 10]"
   ]
  },
  {
   "cell_type": "code",
   "execution_count": 62,
   "id": "6817d28e-3cdf-4a93-8941-76d90635d263",
   "metadata": {},
   "outputs": [],
   "source": [
    "counting_env = DoubleBlackjackEnvWithCounting(natural=True)\n",
    "counting_mc_control_player = OffPolicySoftGreedyMCControlPlayer(action_dim=3)\n",
    "counting_game = BlackJackGame(counting_env)"
   ]
  },
  {
   "cell_type": "code",
   "execution_count": 63,
   "id": "809807d1-23cf-47f6-a20c-871bb243a9a6",
   "metadata": {},
   "outputs": [
    {
     "data": {
      "application/vnd.jupyter.widget-view+json": {
       "model_id": "30ae99726e544bea9eeaf77d6a60faa0",
       "version_major": 2,
       "version_minor": 0
      },
      "text/plain": [
       "Training Player(gamma=1, eps=0.001):   0%|          | 0/50000 [00:00<?, ?it/s]"
      ]
     },
     "metadata": {},
     "output_type": "display_data"
    },
    {
     "data": {
      "application/vnd.jupyter.widget-view+json": {
       "model_id": "6a01eb5500c642acbaa22430659ed4f3",
       "version_major": 2,
       "version_minor": 0
      },
      "text/plain": [
       "Checking Player(gamma=1, eps=0.001):   0%|          | 0/100000 [00:00<?, ?it/s]"
      ]
     },
     "metadata": {},
     "output_type": "display_data"
    },
    {
     "data": {
      "text/plain": [
       "-0.1310399999999986"
      ]
     },
     "execution_count": 63,
     "metadata": {},
     "output_type": "execute_result"
    }
   ],
   "source": [
    "counting_trainer = Trainer(counting_game)\n",
    "counting_trainer.train(counting_mc_control_player, 50000)\n",
    "counting_game.mc_check(counting_mc_control_player)"
   ]
  },
  {
   "cell_type": "code",
   "execution_count": 66,
   "id": "21d83315-2125-4c3b-8bfb-e9dbfdd73c24",
   "metadata": {},
   "outputs": [],
   "source": [
    "# grid = {\n",
    "#     'action_dim': [3],\n",
    "#     'eps': [0.001, 0.005, 0.01, 0.05, 0.1, 0.25],\n",
    "#     'gamma': [0.1, 0.25, 0.5, 0.75, 1.]\n",
    "# }\n",
    "\n",
    "# grid_search_result = counting_trainer.grid_search_params(counting_mc_control_player, grid, printing=True, n_iter_train=100000, n_iter_check=100000,\n",
    "#                            use_tqdm=True, use_tqdm_training=False, use_tqdm_checking=False)\n",
    "# print(grid_search_result)"
   ]
  },
  {
   "cell_type": "code",
   "execution_count": 67,
   "id": "2a7f5810-c8bb-45c5-bb92-09682424cff5",
   "metadata": {},
   "outputs": [],
   "source": [
    "best_params = {'best_params': {'action_dim': 3, 'eps': 0.001, 'gamma': 0.1}, 'best_reward': -0.086895}"
   ]
  },
  {
   "cell_type": "code",
   "execution_count": null,
   "id": "328a5532-f4d0-452b-aa93-28d680bc9a8e",
   "metadata": {},
   "outputs": [],
   "source": []
  }
 ],
 "metadata": {
  "kernelspec": {
   "display_name": "Python 3 (ipykernel)",
   "language": "python",
   "name": "python3"
  },
  "language_info": {
   "codemirror_mode": {
    "name": "ipython",
    "version": 3
   },
   "file_extension": ".py",
   "mimetype": "text/x-python",
   "name": "python",
   "nbconvert_exporter": "python",
   "pygments_lexer": "ipython3",
   "version": "3.10.0"
  }
 },
 "nbformat": 4,
 "nbformat_minor": 5
}
